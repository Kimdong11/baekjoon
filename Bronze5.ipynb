{
 "cells": [
  {
   "cell_type": "markdown",
   "metadata": {},
   "source": [
    "### 1000"
   ]
  },
  {
   "cell_type": "code",
   "execution_count": null,
   "metadata": {},
   "outputs": [],
   "source": [
    "a, b = map(int, input.split())\n",
    "\n",
    "print(a + b)"
   ]
  },
  {
   "cell_type": "markdown",
   "metadata": {},
   "source": [
    "### 1001"
   ]
  },
  {
   "cell_type": "code",
   "execution_count": null,
   "metadata": {},
   "outputs": [],
   "source": [
    "a, b = map(int, input.split())\n",
    "\n",
    "print(a - b)"
   ]
  },
  {
   "cell_type": "markdown",
   "metadata": {},
   "source": [
    "### 1271"
   ]
  },
  {
   "cell_type": "code",
   "execution_count": null,
   "metadata": {},
   "outputs": [],
   "source": [
    "n, m = map(int, input().split())\n",
    "\n",
    "print(n // m)\n",
    "print(n % m)\n"
   ]
  },
  {
   "cell_type": "markdown",
   "metadata": {},
   "source": [
    "### 1550"
   ]
  },
  {
   "cell_type": "code",
   "execution_count": null,
   "metadata": {},
   "outputs": [],
   "source": [
    "n = input()\n",
    "\n",
    "print(int(n, 16))\n",
    "    "
   ]
  },
  {
   "cell_type": "markdown",
   "metadata": {},
   "source": [
    "### 2338 "
   ]
  },
  {
   "cell_type": "code",
   "execution_count": null,
   "metadata": {},
   "outputs": [],
   "source": [
    "A = int(input())\n",
    "B = int(input())\n",
    "\n",
    "print(A + B)\n",
    "print(A - B)\n",
    "print(A * B)"
   ]
  },
  {
   "cell_type": "markdown",
   "metadata": {},
   "source": [
    "### 2475"
   ]
  },
  {
   "cell_type": "code",
   "execution_count": null,
   "metadata": {},
   "outputs": [],
   "source": [
    "a, b, c, d, e = map(int, input().split())\n",
    "\n",
    "print((a ** 2 + b ** 2 + c ** 2 + d ** 2 + e ** 2) % 10)"
   ]
  },
  {
   "cell_type": "markdown",
   "metadata": {},
   "source": [
    "### 2557"
   ]
  },
  {
   "cell_type": "code",
   "execution_count": null,
   "metadata": {},
   "outputs": [],
   "source": [
    "print('Hello World!')"
   ]
  },
  {
   "cell_type": "markdown",
   "metadata": {},
   "source": [
    "### 2558"
   ]
  },
  {
   "cell_type": "code",
   "execution_count": null,
   "metadata": {},
   "outputs": [],
   "source": [
    "a = int(input())\n",
    "b = int(input())\n",
    "\n",
    "print(a + b)"
   ]
  },
  {
   "cell_type": "markdown",
   "metadata": {},
   "source": [
    "### 2845"
   ]
  },
  {
   "cell_type": "code",
   "execution_count": null,
   "metadata": {},
   "outputs": [],
   "source": [
    "l, p = map(int, input().split())\n",
    "a, b, c, d, e = map(int, input().split())\n",
    "\n",
    "num = l * p \n",
    "\n",
    "print(num - a, num - b, num - c, num - d, num - e)"
   ]
  },
  {
   "cell_type": "markdown",
   "metadata": {},
   "source": [
    "### 2914"
   ]
  },
  {
   "cell_type": "code",
   "execution_count": null,
   "metadata": {},
   "outputs": [],
   "source": [
    "a, i = map(int, input().split())\n",
    "\n",
    "answer = a * (i - 1) + 1\n",
    "print(answer) "
   ]
  },
  {
   "cell_type": "markdown",
   "metadata": {},
   "source": [
    "### 3003"
   ]
  },
  {
   "cell_type": "code",
   "execution_count": null,
   "metadata": {},
   "outputs": [],
   "source": [
    "a = list(map(int, input().split()))\n",
    "\n",
    "chess = [1, 1, 2, 2, 2, 8]\n",
    "answer = []\n",
    "\n",
    "for i in range(len(a)) :\n",
    "    if a[i] != chess[i] :\n",
    "        answer.append(chess[i] - a[i])\n",
    "    else :\n",
    "        answer.append(chess[i] - a[i])\n",
    "\n",
    "for i in answer :\n",
    "    print(i, end=\" \")"
   ]
  },
  {
   "cell_type": "markdown",
   "metadata": {},
   "source": [
    "### 3046"
   ]
  },
  {
   "cell_type": "code",
   "execution_count": null,
   "metadata": {},
   "outputs": [],
   "source": [
    "r1, s = map(int, input().split())\n",
    "\n",
    "r2 = (s * 2) - r1\n",
    "print(r2)\n"
   ]
  },
  {
   "cell_type": "markdown",
   "metadata": {},
   "source": [
    "### 5337"
   ]
  },
  {
   "cell_type": "code",
   "execution_count": null,
   "metadata": {},
   "outputs": [],
   "source": [
    "print('''.  .   .\n",
    "|  | _ | _. _ ._ _  _\n",
    "|/\\|(/.|(_.(_)[ | )(/.''')\n",
    "\n"
   ]
  },
  {
   "cell_type": "markdown",
   "metadata": {},
   "source": [
    "### 5338"
   ]
  },
  {
   "cell_type": "code",
   "execution_count": null,
   "metadata": {},
   "outputs": [],
   "source": [
    "print(\"\"\"       _.-;;-._\n",
    "'-..-'|   ||   |\n",
    "'-..-'|_.-;;-._|\n",
    "'-..-'|   ||   |\n",
    "'-..-'|_.-''-._|\"\"\")"
   ]
  },
  {
   "cell_type": "markdown",
   "metadata": {},
   "source": [
    "### 5522"
   ]
  },
  {
   "cell_type": "code",
   "execution_count": null,
   "metadata": {},
   "outputs": [],
   "source": [
    "cards = []\n",
    "\n",
    "for i in range(5) :\n",
    "    a = int(input())\n",
    "    cards.append(a)\n",
    "    \n",
    "print(sum(cards))\n",
    "    "
   ]
  },
  {
   "cell_type": "markdown",
   "metadata": {},
   "source": [
    "### 1297"
   ]
  },
  {
   "cell_type": "code",
   "execution_count": null,
   "metadata": {},
   "outputs": [],
   "source": [
    "d, h, w  = map(int, input().split())\n",
    "\n",
    "height = int((h * d) / ((h ** 2) + (w ** 2)) ** (1 / 2))\n",
    "width = int((w * d) / ((h ** 2) + (w ** 2)) ** (1 / 2))\n",
    "\n",
    "print(height, width)\n"
   ]
  },
  {
   "cell_type": "markdown",
   "metadata": {},
   "source": [
    "### 1330"
   ]
  },
  {
   "cell_type": "code",
   "execution_count": null,
   "metadata": {},
   "outputs": [],
   "source": [
    "a, b = map(int, input().split())\n",
    "\n",
    "if a == b :\n",
    "    print(\"==\")\n",
    "elif a > b :\n",
    "    print(\">\")\n",
    "else :\n",
    "    print(\"<\")"
   ]
  },
  {
   "cell_type": "markdown",
   "metadata": {},
   "source": [
    "### 1712"
   ]
  },
  {
   "cell_type": "code",
   "execution_count": null,
   "metadata": {},
   "outputs": [],
   "source": [
    "a, b, c = map(int, input().split())\n",
    "\n",
    "if c < b or c == b :\n",
    "    print(-1)\n",
    "else :\n",
    "    i = a // (c - b)\n",
    "    print(i + 1)\n",
    "\n",
    "    "
   ]
  },
  {
   "cell_type": "markdown",
   "metadata": {},
   "source": [
    "### 2420"
   ]
  },
  {
   "cell_type": "code",
   "execution_count": null,
   "metadata": {},
   "outputs": [],
   "source": [
    "n, m = map(int, input().split()) \n",
    "\n",
    "c = int(((n - m) ** 2) ** (1/2))\n",
    "\n",
    "print(c)"
   ]
  },
  {
   "cell_type": "markdown",
   "metadata": {},
   "source": [
    "### 2480"
   ]
  },
  {
   "cell_type": "code",
   "execution_count": null,
   "metadata": {},
   "outputs": [],
   "source": [
    "n = list(map(int, input().split()))\n",
    "count = 0\n",
    "a = 0\n",
    "\n",
    "for i in n :\n",
    "    if count < n.count(i) :\n",
    "        count = n.count(i)\n",
    "        a = i\n",
    "    \n",
    "if count == 1 :\n",
    "    answer = max(n) * 100\n",
    "elif count == 2 :\n",
    "    answer = 1000 + a * 100\n",
    "else :\n",
    "    answer = 10000 + a * 1000\n",
    "    \n",
    "print(answer)\n",
    "\n"
   ]
  },
  {
   "cell_type": "markdown",
   "metadata": {},
   "source": [
    "### 2552"
   ]
  },
  {
   "cell_type": "code",
   "execution_count": null,
   "metadata": {},
   "outputs": [],
   "source": [
    "a, b = map(int, input().split())\n",
    "c = int(input())\n",
    "h = 0\n",
    "m = 0\n",
    "\n",
    "if c > 59 :\n",
    "    h = c // 60\n",
    "    m = c % 60\n",
    "\n",
    "if h > 0 or m > 0 :\n",
    "    a = a + h\n",
    "    b = b + m\n",
    "    if b > 59 :\n",
    "        a += 1\n",
    "        b -= 60\n",
    "    if a > 23 :\n",
    "        a -= 24\n",
    "else :\n",
    "    b = b + c\n",
    "    if b > 59 :\n",
    "        a += 1\n",
    "        b -= 60\n",
    "    if a > 23 :\n",
    "        a -= 24\n",
    "        \n",
    "print(a, b)"
   ]
  },
  {
   "cell_type": "markdown",
   "metadata": {},
   "source": [
    "### 2430"
   ]
  },
  {
   "cell_type": "code",
   "execution_count": null,
   "metadata": {},
   "outputs": [],
   "source": [
    "a, b, c= map(int, input().split())\n",
    "d = int(input())\n",
    "\n",
    "b += d // 60\n",
    "c += d % 60\n",
    "\n",
    "b += c // 60\n",
    "c = c % 60\n",
    "\n",
    "a += b // 60\n",
    "b = b % 60\n",
    "\n",
    "a = a % 24\n",
    "    \n",
    "print(a, b, c)\n",
    "        \n"
   ]
  },
  {
   "cell_type": "markdown",
   "metadata": {},
   "source": [
    "### 2588"
   ]
  },
  {
   "cell_type": "code",
   "execution_count": null,
   "metadata": {},
   "outputs": [],
   "source": [
    "a = input()\n",
    "b = input()\n",
    "c = []\n",
    "result = 0\n",
    "for i in range(1, len(a) + 1) :\n",
    "    print(int(a) * int(b[-i]))\n",
    "    c.append(int(a) * int(b[-i]) * (10 ** (i - 1)))\n",
    "    \n",
    "for i in c :\n",
    "    result += i\n",
    "print(result)"
   ]
  },
  {
   "cell_type": "markdown",
   "metadata": {},
   "source": [
    "### 2752"
   ]
  },
  {
   "cell_type": "code",
   "execution_count": null,
   "metadata": {},
   "outputs": [],
   "source": [
    "a = list(map(int, input().split()))\n",
    "\n",
    "n = len(a)\n",
    "for i in range(1, n):\n",
    "    j = i\n",
    "    tmp = a[i]\n",
    "    while j > 0 and a[j-1] > tmp:\n",
    "        a[j] = a[j-1]\n",
    "        j -= 1\n",
    "    a[j] = tmp\n",
    "\n",
    "for i in a :\n",
    "    print(i)"
   ]
  },
  {
   "cell_type": "markdown",
   "metadata": {},
   "source": [
    "### 2753"
   ]
  },
  {
   "cell_type": "code",
   "execution_count": null,
   "metadata": {},
   "outputs": [],
   "source": [
    "a = int(input())\n",
    "\n",
    "if a % 4 == 0 and a % 100 != 0 or a % 400 == 0 :\n",
    "    print(1)\n",
    "else :\n",
    "    print(0)"
   ]
  },
  {
   "cell_type": "markdown",
   "metadata": {},
   "source": [
    "### 3004"
   ]
  },
  {
   "cell_type": "code",
   "execution_count": null,
   "metadata": {},
   "outputs": [],
   "source": [
    "n = int(input())\n",
    "\n",
    "if n % 2 == 0 :\n",
    "    print((n // 2 + 1) ** 2)\n",
    "\n",
    "else :\n",
    "    print((n // 2 + 1) * (n // 2 + 2))"
   ]
  },
  {
   "cell_type": "markdown",
   "metadata": {},
   "source": [
    "### 4299"
   ]
  },
  {
   "cell_type": "code",
   "execution_count": null,
   "metadata": {},
   "outputs": [],
   "source": [
    "a, b = map(int, input().split())\n",
    "num = []\n",
    "\n",
    "for i in range(a) : \n",
    "    for j in range(a) :\n",
    "        if i + j == a and i - j == b :\n",
    "            num.append(i)\n",
    "            num.append(j)\n",
    "if len(num) :       \n",
    "    for i in num :\n",
    "        print(i, end=\" \")\n",
    "else :\n",
    "    print(-1)"
   ]
  },
  {
   "cell_type": "markdown",
   "metadata": {},
   "source": [
    "### 5532"
   ]
  },
  {
   "cell_type": "code",
   "execution_count": null,
   "metadata": {},
   "outputs": [],
   "source": [
    "l = int(input())\n",
    "a = int(input())\n",
    "b = int(input())\n",
    "c = int(input())\n",
    "d = int(input())\n",
    "\n",
    "if a % c == 0 or b / d == 0 :\n",
    "    if a // c > b // d :\n",
    "        l -= a // c\n",
    "    else :\n",
    "        l -= b // d\n",
    "else :\n",
    "    if a / c > b / d :\n",
    "        l -= a // c + 1\n",
    "    else :\n",
    "        l -= b // d + 1\n",
    "        \n",
    "print(l)"
   ]
  },
  {
   "cell_type": "markdown",
   "metadata": {},
   "source": [
    "### 5543"
   ]
  },
  {
   "cell_type": "code",
   "execution_count": null,
   "metadata": {},
   "outputs": [],
   "source": [
    "bugger = []\n",
    "bever = []\n",
    "\n",
    "a = bugger.append(int(input()))\n",
    "b = bugger.append(int(input()))\n",
    "c = bugger.append(int(input()))\n",
    "d = bever.append(int(input()))\n",
    "e = bever.append(int(input()))\n",
    "\n",
    "result = []\n",
    "\n",
    "for i in bugger :\n",
    "    for j in bever :\n",
    "        result.append(i + j - 50)\n",
    "\n",
    "result.sort()\n",
    "\n",
    "print(result[0])\n"
   ]
  },
  {
   "cell_type": "markdown",
   "metadata": {},
   "source": [
    "### 5575"
   ]
  },
  {
   "cell_type": "code",
   "execution_count": null,
   "metadata": {},
   "outputs": [],
   "source": [
    "a, b, c, d, e, f = map(int, input().split())\n",
    "g, h, i, j, k, l = map(int, input().split())\n",
    "m, n, o, p, q, r = map(int, input().split())\n",
    "\n",
    "d -= a \n",
    "j -= g\n",
    "p -= m\n",
    "e -= b\n",
    "k -= h\n",
    "q -= n\n",
    "f -= c\n",
    "l -= i\n",
    "r -= o\n",
    "\n",
    "if f < 0 :\n",
    "    e -= 1\n",
    "    f += 60\n",
    "if l < 0 :\n",
    "    k -= 1\n",
    "    l += 60 \n",
    "if r < 0 :\n",
    "    q -= 1\n",
    "    r += 60\n",
    "\n",
    "if e < 0 :\n",
    "    d -= 1\n",
    "    e += 60\n",
    "if k < 0 :\n",
    "    j -= 1\n",
    "    k += 60 \n",
    "if q < 0 :\n",
    "    p -= 1\n",
    "    q += 60\n",
    "    \n",
    "print(d, e, f)\n",
    "print(j, k, l)\n",
    "print(p, q, r)"
   ]
  },
  {
   "cell_type": "markdown",
   "metadata": {},
   "source": [
    "### 5596"
   ]
  },
  {
   "cell_type": "code",
   "execution_count": null,
   "metadata": {},
   "outputs": [],
   "source": [
    "a, b, c, d = map(int, input().split())\n",
    "e, f, g, h = map(int, input().split())\n",
    "\n",
    "s = a + b + c + d\n",
    "t = e + f + g + h\n",
    "\n",
    "if s > t :\n",
    "    print(s)\n",
    "elif s == t :\n",
    "    print(s)\n",
    "else :\n",
    "    print(t)\n"
   ]
  },
  {
   "cell_type": "markdown",
   "metadata": {},
   "source": [
    "### 5893"
   ]
  },
  {
   "cell_type": "code",
   "execution_count": null,
   "metadata": {},
   "outputs": [],
   "source": [
    "a = input()\n",
    "\n",
    "b = int(a, 2) * 17\n",
    "\n",
    "print(bin(b)[2:])"
   ]
  },
  {
   "cell_type": "markdown",
   "metadata": {},
   "source": [
    "### 9498"
   ]
  },
  {
   "cell_type": "code",
   "execution_count": null,
   "metadata": {},
   "outputs": [],
   "source": [
    "a  = int(input())\n",
    "\n",
    "if a >= 90 :\n",
    "    print(\"A\")\n",
    "elif a >= 80 :\n",
    "    print(\"B\")\n",
    "elif a >= 70 :\n",
    "    print(\"C\")\n",
    "elif a >= 60 :\n",
    "    print(\"D\")\n",
    "else :\n",
    "    print(\"F\")"
   ]
  },
  {
   "cell_type": "markdown",
   "metadata": {},
   "source": [
    "### 10039"
   ]
  },
  {
   "cell_type": "code",
   "execution_count": null,
   "metadata": {},
   "outputs": [],
   "source": [
    "num = []\n",
    "\n",
    "num.append(int(input()))\n",
    "num.append(int(input()))\n",
    "num.append(int(input()))\n",
    "num.append(int(input()))\n",
    "num.append(int(input()))\n",
    "result = 0\n",
    "\n",
    "for i in range(len(num)) :\n",
    "    if num[i] < 40 :\n",
    "        num[i] = 40 \n",
    "    result += num[i]\n",
    "    \n",
    "result = result // len(num)\n",
    "\n",
    "print(result)"
   ]
  },
  {
   "cell_type": "markdown",
   "metadata": {},
   "source": [
    "###  10101"
   ]
  },
  {
   "cell_type": "code",
   "execution_count": null,
   "metadata": {},
   "outputs": [],
   "source": [
    "a = int(input())\n",
    "b = int(input())\n",
    "c = int(input())\n",
    "\n",
    "if a + b + c == 180 :\n",
    "    if a == b and b == c :\n",
    "        print(\"Equilateral\")\n",
    "    elif a == b or a == c or b == c :\n",
    "        print(\"Isosceles\")\n",
    "    else :\n",
    "        print(\"Scalene\")\n",
    "else :\n",
    "     print('Error')\n",
    "    "
   ]
  },
  {
   "cell_type": "markdown",
   "metadata": {},
   "source": [
    "### 10156"
   ]
  },
  {
   "cell_type": "code",
   "execution_count": null,
   "metadata": {},
   "outputs": [],
   "source": [
    "k, n, m = map(int, input().split())\n",
    "\n",
    "if k * n > m :\n",
    "    print(k * n - m)\n",
    "else :\n",
    "    print(0)"
   ]
  },
  {
   "cell_type": "markdown",
   "metadata": {},
   "source": [
    "### 10162"
   ]
  },
  {
   "cell_type": "code",
   "execution_count": null,
   "metadata": {},
   "outputs": [],
   "source": [
    "t = int(input())\n",
    "\n",
    "if t % 10 != 0 :\n",
    "    print(-1)\n",
    "else :\n",
    "    a = t // 300\n",
    "    b = (t % 300) // 60\n",
    "    c = ((t % 300) % 60) // 10\n",
    "    print(a, b, c)\n",
    "\n"
   ]
  },
  {
   "cell_type": "markdown",
   "metadata": {},
   "source": [
    "### 10179"
   ]
  },
  {
   "cell_type": "code",
   "execution_count": null,
   "metadata": {},
   "outputs": [],
   "source": [
    "t = int(input())\n",
    "for i in range(t):\n",
    "    price = float(input())\n",
    "    print(\"${:.2f}\".format(round(price * 0.8, 2))) "
   ]
  },
  {
   "cell_type": "markdown",
   "metadata": {},
   "source": [
    "### 10707\n"
   ]
  },
  {
   "cell_type": "code",
   "execution_count": null,
   "metadata": {},
   "outputs": [],
   "source": [
    "a = int(input())\n",
    "b = int(input())\n",
    "c = int(input())\n",
    "d = int(input())\n",
    "e = int(input())\n",
    "\n",
    "x = a * e\n",
    "if e > c :\n",
    "    y = b + (e - c) * d\n",
    "else :\n",
    "    y = b\n",
    "\n",
    "if x > y :\n",
    "    print(y)\n",
    "else :\n",
    "    print(x)"
   ]
  },
  {
   "cell_type": "markdown",
   "metadata": {},
   "source": [
    "### 10768"
   ]
  },
  {
   "cell_type": "code",
   "execution_count": null,
   "metadata": {},
   "outputs": [],
   "source": [
    "a = int(input())\n",
    "b = int(input())\n",
    "\n",
    "c = a % 2\n",
    "\n",
    "if a > 2 :\n",
    "    print(\"After\")\n",
    "elif a == 2 :\n",
    "    if b == 18 :\n",
    "        print(\"Special\")\n",
    "    elif b > 18 :\n",
    "        print(\"After\")\n",
    "    else :\n",
    "        print(\"Before\")\n",
    "else :\n",
    "    print(\"Before\")"
   ]
  },
  {
   "cell_type": "markdown",
   "metadata": {},
   "source": [
    "### 10797"
   ]
  },
  {
   "cell_type": "code",
   "execution_count": null,
   "metadata": {},
   "outputs": [],
   "source": [
    "a = input()\n",
    "b = list(map(int, input().split()))\n",
    "z = int(a)\n",
    "cnt = 0\n",
    "\n",
    "if len(a) > 1 :\n",
    "    z = int(a[1])     \n",
    "\n",
    "for i in b :\n",
    "    if z - i == 0 :\n",
    "        cnt += 1\n",
    "\n",
    "print(cnt) \n",
    "        \n"
   ]
  },
  {
   "cell_type": "markdown",
   "metadata": {},
   "source": [
    "### 11282"
   ]
  },
  {
   "cell_type": "code",
   "execution_count": null,
   "metadata": {},
   "outputs": [],
   "source": [
    "print(chr(44031+int(input())))"
   ]
  },
  {
   "cell_type": "markdown",
   "metadata": {},
   "source": [
    "### 11943"
   ]
  },
  {
   "cell_type": "code",
   "execution_count": null,
   "metadata": {},
   "outputs": [],
   "source": [
    "a, b = map(int, input().split())\n",
    "c, d = map(int, input().split())\n",
    "\n",
    "if a + d > b + c :\n",
    "    print(b + c)\n",
    "    \n",
    "else :\n",
    "    print(a + d)\n"
   ]
  },
  {
   "cell_type": "markdown",
   "metadata": {},
   "source": [
    "### 11948"
   ]
  },
  {
   "cell_type": "code",
   "execution_count": null,
   "metadata": {},
   "outputs": [],
   "source": [
    "a = int(input())\n",
    "b = int(input())\n",
    "c = int(input())\n",
    "d = int(input())\n",
    "e = int(input())\n",
    "f = int(input())\n",
    "\n",
    "four = [a, b, c, d]\n",
    "two = [e, f]\n",
    "\n",
    "four.sort(reverse=True)\n",
    "two.sort(reverse=True)\n",
    "\n",
    "result = 0\n",
    "\n",
    "for i in range(len(four) - 1) :\n",
    "    result += four[i]\n",
    "\n",
    "result += two[0]\n",
    "\n",
    "print(result)\n",
    "\n",
    "\n",
    "\n"
   ]
  },
  {
   "cell_type": "markdown",
   "metadata": {},
   "source": [
    "### 13866"
   ]
  },
  {
   "cell_type": "code",
   "execution_count": null,
   "metadata": {},
   "outputs": [],
   "source": [
    "a = list(map(int, input().split()))\n",
    "\n",
    "a.sort()\n",
    "\n",
    "team_a = a[0] + a[len(a) - 1]\n",
    "team_b = a[1] + a[len(a) - 2]\n",
    "\n",
    "result = team_a - team_b\n",
    "\n",
    "if result < 0 :\n",
    "    result *= -1\n",
    "    print(result)\n",
    "else :\n",
    "    print(result)\n",
    "\n"
   ]
  },
  {
   "cell_type": "markdown",
   "metadata": {},
   "source": [
    "### 1009"
   ]
  },
  {
   "cell_type": "code",
   "execution_count": null,
   "metadata": {},
   "outputs": [],
   "source": [
    "n = int(input())\n",
    "\n",
    "for i in range(n) :\n",
    "    a, b = map(int, input().split())\n",
    "    c = pow(a, b, 10)\n",
    "    \n",
    "    if not c :\n",
    "        print(c + 10)\n",
    "    else :\n",
    "        print(c)"
   ]
  },
  {
   "cell_type": "markdown",
   "metadata": {},
   "source": [
    "### 1085"
   ]
  },
  {
   "cell_type": "code",
   "execution_count": null,
   "metadata": {},
   "outputs": [],
   "source": [
    "x, y, w, h = map(int, input().split())\n",
    "\n",
    "my = [x, y]\n",
    "grid = [w, h]\n",
    "\n",
    "a = grid[0] - my[0]\n",
    "b =  grid[1] - my[1]\n",
    "result = x\n",
    "\n",
    "if result > a :\n",
    "    result = a\n",
    "if result > b :\n",
    "    result = b\n",
    "if result > y :\n",
    "    result = y\n",
    "\n",
    "print(result)\n",
    "\n",
    "\n",
    " "
   ]
  },
  {
   "cell_type": "markdown",
   "metadata": {},
   "source": [
    "### 1212"
   ]
  },
  {
   "cell_type": "code",
   "execution_count": null,
   "metadata": {},
   "outputs": [],
   "source": [
    "from sys import stdin\n",
    "\n",
    "for i in range(3) :\n",
    "    result = 0\n",
    "    a = int(stdin.readline())\n",
    "    for j in range(a) :\n",
    "        b = int(stdin.readline())\n",
    "        result += b\n",
    "    if result < 0 :\n",
    "        print(\"-\")\n",
    "    elif result == 0 :\n",
    "        print(\"0\")\n",
    "    else :\n",
    "        print(\"+\")"
   ]
  },
  {
   "cell_type": "markdown",
   "metadata": {},
   "source": [
    "### 1267"
   ]
  },
  {
   "cell_type": "code",
   "execution_count": null,
   "metadata": {},
   "outputs": [],
   "source": [
    "n = int(input())\n",
    "\n",
    "a = list(map(int, input().split()))\n",
    "\n",
    "y = []\n",
    "m = []\n",
    "\n",
    "result_y = 0\n",
    "result_m = 0\n",
    "\n",
    "for i in range(len(a)) :\n",
    "    y.append(a[i] % 30)\n",
    "    m.append(a[i] % 60)\n",
    "\n",
    "for i in range(len(y)):\n",
    "    if y[i] == 0 :\n",
    "        result_y += ((a[i] // 30 + 1) * 10)\n",
    "    else :\n",
    "        result_y += ((a[i] // 30 + 1) * 10)\n",
    "        \n",
    "for j in range(len(m)) :\n",
    "    if m[j] == 0 :\n",
    "        result_m += ((a[j] // 60 + 1) * 15)\n",
    "    else : \n",
    "        result_m += ((a[j] // 60 + 1) * 15)\n",
    "            \n",
    "if result_y > result_m :\n",
    "    print(\"M\",result_m)\n",
    "elif result_y == result_m :\n",
    "    print(\"Y\",\"M\", result_m)\n",
    "else :\n",
    "    print(\"Y\", result_y)\n"
   ]
  },
  {
   "cell_type": "markdown",
   "metadata": {},
   "source": [
    "### 1284"
   ]
  },
  {
   "cell_type": "code",
   "execution_count": null,
   "metadata": {},
   "outputs": [],
   "source": [
    "while True :\n",
    "    result = 0\n",
    "    a = input()\n",
    "    if a == \"0\" :\n",
    "        break\n",
    "    for i in a :\n",
    "        if i == \"1\" :\n",
    "            result += 2\n",
    "        elif i == \"0\" :\n",
    "            result += 4\n",
    "        else :\n",
    "            result += 3  \n",
    "    result += len(a) + 1\n",
    "    print(result)"
   ]
  },
  {
   "cell_type": "markdown",
   "metadata": {},
   "source": [
    "### 1547"
   ]
  },
  {
   "cell_type": "code",
   "execution_count": null,
   "metadata": {},
   "outputs": [],
   "source": [
    "n = int(input())\n",
    "\n",
    "ball = 1\n",
    "\n",
    "for i in range(n) :\n",
    "    a, b = map(int, input().split())\n",
    "    if a == ball : \n",
    "        ball = b\n",
    "    elif b == ball :\n",
    "        ball = a\n",
    "\n",
    "print(ball)"
   ]
  },
  {
   "cell_type": "markdown",
   "metadata": {},
   "source": [
    "### 1598"
   ]
  },
  {
   "cell_type": "code",
   "execution_count": null,
   "metadata": {},
   "outputs": [],
   "source": [
    "a, b = map(int, input().split())\n",
    "\n",
    "x1 = (a - 1) // 4\n",
    "x2 = (b - 1) // 4\n",
    "y1 = (a - 1) % 4 \n",
    "y2 = (b - 1) % 4\n",
    "\n",
    "print(abs(x1 - x2) + abs(y2 - y1)) "
   ]
  },
  {
   "cell_type": "markdown",
   "metadata": {},
   "source": [
    "### 1837"
   ]
  },
  {
   "cell_type": "code",
   "execution_count": null,
   "metadata": {},
   "outputs": [],
   "source": [
    "# 소수는 2, 3, 5, 7로 나눠지지 않는 수\n",
    "\n",
    "p, k = map(int, input().split())\n",
    "\n",
    "prime = []\n",
    "\n",
    "while k > 2 :\n",
    "    k -= 1\n",
    "    if  p % k == 0 :\n",
    "        prime.append(k)\n",
    "\n",
    "prime.sort()\n",
    "\n",
    "if len(prime) == 1 or len(prime) == 2 :\n",
    "    print(\"BAD\", prime[0])\n",
    "else :\n",
    "    print(\"GOOD\")\n",
    "        \n",
    "    "
   ]
  },
  {
   "cell_type": "markdown",
   "metadata": {},
   "source": [
    "### 1864"
   ]
  },
  {
   "cell_type": "code",
   "execution_count": null,
   "metadata": {},
   "outputs": [],
   "source": [
    "\n",
    "s = {\n",
    "    \"-\" : 0,\n",
    "    \"\\\\\" : 1,\n",
    "    \"(\" : 2,\n",
    "    \"@\" : 3,\n",
    "    \"?\" : 4,\n",
    "    \">\" : 5,\n",
    "    \"&\" : 6,\n",
    "    \"%\" : 7,\n",
    "    \"/\" : -1\n",
    " }\n",
    "   \n",
    "\n",
    "while True :\n",
    "    a = input()\n",
    "    result = 0    \n",
    "    for i in range(len(a)) :\n",
    "        if a == \"#\" :\n",
    "            break\n",
    "        b = i - (len(a) - 1)\n",
    "        result += s[a[i]] * (8 ** abs(b))\n",
    "    if a == \"#\" :\n",
    "        break\n",
    "    print(result)\n",
    "    \n"
   ]
  },
  {
   "cell_type": "markdown",
   "metadata": {},
   "source": [
    "### 1964"
   ]
  },
  {
   "cell_type": "code",
   "execution_count": null,
   "metadata": {},
   "outputs": [],
   "source": [
    "n = int(input())\n",
    "\n",
    "penta = 5\n",
    "result = 5\n",
    "\n",
    "for i in range(1, n) :\n",
    "    if i == 1 :\n",
    "        penta += i + 1\n",
    "        result += penta\n",
    "    else :\n",
    "        penta += 3\n",
    "        result += penta\n",
    "\n",
    "print(result % 45678)\n"
   ]
  },
  {
   "cell_type": "markdown",
   "metadata": {},
   "source": [
    "### 1975"
   ]
  },
  {
   "cell_type": "code",
   "execution_count": null,
   "metadata": {},
   "outputs": [],
   "source": [
    "t = int(input())\n",
    "\n",
    "def f(n, i):\n",
    "    return 1 + f(n//i, i) if n%i == 0 else 0\n",
    "\n",
    "for j in range(t):\n",
    "    N = int(input())\n",
    "    cnt = 0\n",
    "    for i in range(2, N+1):\n",
    "        cnt += f(N, i)\n",
    "    print(cnt)"
   ]
  },
  {
   "cell_type": "markdown",
   "metadata": {},
   "source": [
    "### 2010"
   ]
  },
  {
   "cell_type": "code",
   "execution_count": null,
   "metadata": {},
   "outputs": [],
   "source": [
    "from sys import stdin\n",
    "\n",
    "n = int(input())\n",
    "\n",
    "result = 0\n",
    "\n",
    "for i in range(n) :\n",
    "    a = int(stdin.readline())\n",
    "    result += a \n",
    "\n",
    "result -= (n - 1)\n",
    "print(result)"
   ]
  },
  {
   "cell_type": "markdown",
   "metadata": {},
   "source": [
    "### 2061"
   ]
  },
  {
   "cell_type": "code",
   "execution_count": null,
   "metadata": {},
   "outputs": [],
   "source": [
    "k, l = map(int, input().split())\n",
    "\n",
    "prime = []\n",
    "\n",
    "for i in range(l - 1, 1, -1) :\n",
    "    if k % i == 0 :\n",
    "        prime.append(i)\n",
    "        \n",
    "prime.sort()\n",
    "\n",
    "if prime :\n",
    "    print(\"BAD\", prime[0])\n",
    "else :\n",
    "    print(\"GOOD\")\n",
    "\n"
   ]
  },
  {
   "cell_type": "markdown",
   "metadata": {},
   "source": [
    "### 2163"
   ]
  },
  {
   "cell_type": "code",
   "execution_count": null,
   "metadata": {},
   "outputs": [],
   "source": [
    "n, m = map(int, input().split())\n",
    "\n",
    "result = n * m - 1\n",
    "print(result)"
   ]
  },
  {
   "cell_type": "markdown",
   "metadata": {},
   "source": [
    "### 2355"
   ]
  },
  {
   "cell_type": "code",
   "execution_count": null,
   "metadata": {},
   "outputs": [],
   "source": [
    "a, b = map(int, input().split())\n",
    "\n",
    "result = (a + b) * (abs(a - b) + 1) // 2\n",
    "print(result)"
   ]
  },
  {
   "cell_type": "markdown",
   "metadata": {},
   "source": [
    "### 2438"
   ]
  },
  {
   "cell_type": "code",
   "execution_count": null,
   "metadata": {},
   "outputs": [],
   "source": [
    "n = int(input())\n",
    "\n",
    "for i in range(1, n + 1) :\n",
    "    print(\"*\" * i)"
   ]
  },
  {
   "cell_type": "markdown",
   "metadata": {},
   "source": [
    "### 2439"
   ]
  },
  {
   "cell_type": "code",
   "execution_count": null,
   "metadata": {},
   "outputs": [],
   "source": [
    "n = int(input())\n",
    "\n",
    "for i in range(1, n + 1) :\n",
    "    print(\" \" * (n - i) + \"*\" * i)\n"
   ]
  },
  {
   "cell_type": "markdown",
   "metadata": {},
   "source": [
    "### 2440"
   ]
  },
  {
   "cell_type": "code",
   "execution_count": null,
   "metadata": {},
   "outputs": [],
   "source": [
    "n = int(input())\n",
    "\n",
    "for i in range(n, 0, -1) :\n",
    "    print(\"*\" * i)"
   ]
  },
  {
   "cell_type": "markdown",
   "metadata": {},
   "source": [
    "### 2441"
   ]
  },
  {
   "cell_type": "code",
   "execution_count": null,
   "metadata": {},
   "outputs": [],
   "source": [
    "n = int(input())\n",
    "\n",
    "for i in range(n, 0 , -1) :\n",
    "    print(\" \" * (n-i) + \"*\" * i)"
   ]
  },
  {
   "cell_type": "markdown",
   "metadata": {},
   "source": [
    "### 2442"
   ]
  },
  {
   "cell_type": "code",
   "execution_count": null,
   "metadata": {},
   "outputs": [],
   "source": [
    "n = int(input())\n",
    "\n",
    "for i in range(1, n + 1) :\n",
    "    a = \" \" * (n - i) + \"*\" * ((2 * i) - 1)\n",
    "    print(a)"
   ]
  },
  {
   "cell_type": "markdown",
   "metadata": {},
   "source": [
    "### 2443"
   ]
  },
  {
   "cell_type": "code",
   "execution_count": null,
   "metadata": {},
   "outputs": [],
   "source": [
    "n = int(input())\n",
    "\n",
    "for i in range(n, 0, -1) :\n",
    "    a = \" \" * (n - i) + \"*\" * ((i * 2) - 1)\n",
    "    print(a)"
   ]
  },
  {
   "cell_type": "markdown",
   "metadata": {},
   "source": [
    "### 2444 "
   ]
  },
  {
   "cell_type": "code",
   "execution_count": null,
   "metadata": {},
   "outputs": [],
   "source": [
    "n = int(input())\n",
    "\n",
    "for i in range(1, n + 1) :\n",
    "    a = \" \" * (n - i) + \"*\" * ((2 * i) - 1)\n",
    "    print(a)\n",
    "    if i == n :\n",
    "        for j in range(n - 1, 0, -1) :\n",
    "            a = \" \" * (n - j) + \"*\" * ((j * 2) - 1)\n",
    "            print(a)"
   ]
  },
  {
   "cell_type": "markdown",
   "metadata": {},
   "source": [
    "### 2445"
   ]
  },
  {
   "cell_type": "code",
   "execution_count": null,
   "metadata": {},
   "outputs": [],
   "source": [
    "n = int(input())\n",
    "\n",
    "for i in range(1, n + 1) :\n",
    "    a = \"*\" * i + \" \" * ((n * 2) - (i * 2)) + \"*\" * i\n",
    "    print(a)\n",
    "    if i == n :\n",
    "        for j in range(n - 1, 0, -1) :\n",
    "            a = \"*\" * j + \" \" * ((n * 2) - (j * 2)) + \"*\" * j\n",
    "            print(a)"
   ]
  },
  {
   "cell_type": "markdown",
   "metadata": {},
   "source": [
    "### 2446"
   ]
  },
  {
   "cell_type": "code",
   "execution_count": null,
   "metadata": {},
   "outputs": [],
   "source": [
    "n = int(input())\n",
    "\n",
    "for i in range(n, 0, -1) :\n",
    "    a = \" \" * (n - i) + \"*\" * ((2 * i) - 1)\n",
    "    print(a)\n",
    "    if i == 1 :\n",
    "        for j in range(2, n + 1) :\n",
    "            a = \" \" * (n - j) + \"*\" * ((j * 2) - 1)\n",
    "            print(a)"
   ]
  },
  {
   "cell_type": "markdown",
   "metadata": {},
   "source": [
    "### 2460"
   ]
  },
  {
   "cell_type": "code",
   "execution_count": null,
   "metadata": {},
   "outputs": [],
   "source": [
    "max_a = []\n",
    "max_b = []\n",
    "\n",
    "for i in range(10) :\n",
    "    a, b = map(int, input().split())   \n",
    "    max_a.append(b - a)\n",
    "    \n",
    "for i in range(1, len(max_a)) :\n",
    "    max_a[0] += max_a[i]\n",
    "    max_b.append(max_a[0])\n",
    "\n",
    "max_b.sort()\n",
    "print(max_b[-1])    "
   ]
  },
  {
   "cell_type": "markdown",
   "metadata": {},
   "source": [
    "### 2476"
   ]
  },
  {
   "cell_type": "code",
   "execution_count": null,
   "metadata": {},
   "outputs": [],
   "source": [
    "n = int(input())\n",
    "\n",
    "max_a = []\n",
    "\n",
    "for i in range(n) :\n",
    "    a, b, c = map(int, input().split())\n",
    "    e = a - b\n",
    "    f = a - c\n",
    "    g = b - c\n",
    "    \n",
    "    if e == 0 and f == 0 :\n",
    "        max_a.append(10000 + (a * 1000))\n",
    "    elif e == 0 :\n",
    "        max_a.append(1000 + (a * 100))\n",
    "    elif f == 0 :\n",
    "        max_a.append(1000 + (c * 100))\n",
    "    elif g == 0 :\n",
    "        max_a.append(1000 + (b * 100))\n",
    "    else :\n",
    "        max_a.append(max(a, b, c) * 100)\n",
    "\n",
    "max_a.sort()\n",
    "print(max_a[-1])"
   ]
  },
  {
   "cell_type": "markdown",
   "metadata": {},
   "source": [
    "### 2490"
   ]
  },
  {
   "cell_type": "code",
   "execution_count": null,
   "metadata": {},
   "outputs": [],
   "source": [
    "b = {0 : \"E\",\n",
    "     1: \"A\",\n",
    "     2: \"B\",\n",
    "     3: \"C\",\n",
    "     4: \"D\"}\n",
    "\n",
    "for i in range(3) :\n",
    "    a = list(map(int, input().split()))\n",
    "    print(b[a.count(0)])"
   ]
  },
  {
   "cell_type": "markdown",
   "metadata": {},
   "source": [
    "### 2501"
   ]
  },
  {
   "cell_type": "code",
   "execution_count": null,
   "metadata": {},
   "outputs": [],
   "source": [
    "n, k = map(int, input().split())\n",
    "\n",
    "a = []\n",
    "\n",
    "for i in range(1, n + 1) :\n",
    "    if n % i == 0 :\n",
    "        a.append(i)\n",
    "\n",
    "if len(a) >= k  :\n",
    "    print(a[k - 1])\n",
    "\n",
    "if len(a) < k :\n",
    "    print(0)\n",
    "    "
   ]
  },
  {
   "cell_type": "markdown",
   "metadata": {},
   "source": [
    "### 2506"
   ]
  },
  {
   "cell_type": "code",
   "execution_count": null,
   "metadata": {},
   "outputs": [],
   "source": [
    "n = int(input())\n",
    "\n",
    "a = list(map(int, input().split()))\n",
    "\n",
    "result = 0\n",
    "con = 0\n",
    "\n",
    "for i in range(len(a)) :\n",
    "    if a[i] == 1 :\n",
    "        con += 1\n",
    "        result += con\n",
    "    else :\n",
    "        con = 0\n",
    "\n",
    "print(result)"
   ]
  },
  {
   "cell_type": "markdown",
   "metadata": {},
   "source": [
    "### 2511"
   ]
  },
  {
   "cell_type": "code",
   "execution_count": null,
   "metadata": {},
   "outputs": [],
   "source": [
    "a = list(map(int, input().split()))\n",
    "b = list(map(int, input().split()))\n",
    "\n",
    "win = []\n",
    "\n",
    "for i in range(len(a)) :\n",
    "    if a[i] > b[i] :\n",
    "        win.append(\"A\")\n",
    "    elif a[i] == b[i] :\n",
    "        win.append(\"D\")\n",
    "    else :\n",
    "        win.append(\"B\")\n",
    "\n",
    "A = win.count(\"A\")\n",
    "B = win.count(\"B\")\n",
    "D = win.count(\"D\")\n",
    "\n",
    "print(A * 3 + D, B * 3 + D)\n",
    "if A > B :\n",
    "    print(\"A\")\n",
    "elif A == B :\n",
    "    for i in range(len(win) - 1, -1, -1) :\n",
    "        if win[i] != \"D\" :\n",
    "            print(win[i])\n",
    "            break\n",
    "    if win.count(\"D\") == 10 :\n",
    "        print(\"D\")\n",
    "else :\n",
    "    print(\"B\")\n",
    "\n",
    "\n"
   ]
  },
  {
   "cell_type": "markdown",
   "metadata": {},
   "source": [
    "### 2522"
   ]
  },
  {
   "cell_type": "code",
   "execution_count": null,
   "metadata": {},
   "outputs": [],
   "source": [
    "n = int(input())\n",
    "\n",
    "for i in range(n) :\n",
    "    print(\" \" * ((n - 1) - i) + \"*\" * (i + 1) )\n",
    "    if i == n - 1 :\n",
    "        for j in range(n - 1, -1, -1) :\n",
    "            print(\" \" * (n - j) + \"*\" * (j))"
   ]
  },
  {
   "cell_type": "markdown",
   "metadata": {},
   "source": [
    "### 1075"
   ]
  },
  {
   "cell_type": "code",
   "execution_count": null,
   "metadata": {},
   "outputs": [],
   "source": [
    "n = input()\n",
    "b = int(input())\n",
    "\n",
    "a = int(n[:-2] + \"00\")\n",
    "\n",
    "while True :\n",
    "    if a % b == 0 :\n",
    "        break\n",
    "    a += 1\n",
    "    \n",
    "print(str(a)[-2:])"
   ]
  },
  {
   "cell_type": "markdown",
   "metadata": {},
   "source": [
    "### 1076"
   ]
  },
  {
   "cell_type": "code",
   "execution_count": null,
   "metadata": {},
   "outputs": [],
   "source": [
    "resister = {\n",
    "    \"black\" : \"0\",\n",
    "    \"brown\" : \"1\",\n",
    "    \"red\"   : \"2\",\n",
    "    \"orange\": \"3\",\n",
    "    \"yellow\": \"4\",\n",
    "    \"green\" : \"5\",\n",
    "    \"blue\"  : \"6\",\n",
    "    \"violet\": \"7\",\n",
    "    \"grey\"  : \"8\",\n",
    "    \"white\" : \"9\",\n",
    "    }\n",
    "\n",
    "a = input() \n",
    "b = input()\n",
    "c = input()\n",
    "\n",
    "print(int(resister[a] + resister[b]) * (10 ** int(resister[c])))"
   ]
  },
  {
   "cell_type": "markdown",
   "metadata": {},
   "source": [
    "### 1152"
   ]
  },
  {
   "cell_type": "code",
   "execution_count": null,
   "metadata": {},
   "outputs": [],
   "source": [
    "n = list(map(str, input().split()))\n",
    "\n",
    "print(len(n))"
   ]
  },
  {
   "cell_type": "markdown",
   "metadata": {},
   "source": [
    "### 1159"
   ]
  },
  {
   "cell_type": "code",
   "execution_count": null,
   "metadata": {},
   "outputs": [],
   "source": [
    "n = int(input())\n",
    "\n",
    "whole = []\n",
    "alpha = []\n",
    "cnt = []\n",
    "\n",
    "for i in range(n) :\n",
    "    a = input()\n",
    "    whole.append(a[0])\n",
    "\n",
    "for i in whole :\n",
    "    if i not in alpha :\n",
    "        alpha.append(i)\n",
    "\n",
    "for i in alpha :\n",
    "    if whole.count(i) >= 5 :\n",
    "        cnt.append(i)\n",
    "    \n",
    "if  cnt :\n",
    "    cnt.sort()\n",
    "    for i in cnt :\n",
    "        print(i, end=\"\")\n",
    "else :\n",
    "    print(\"PREDAJA\")\n",
    "    \n",
    "    \n",
    "        "
   ]
  },
  {
   "cell_type": "markdown",
   "metadata": {},
   "source": [
    "### 1173"
   ]
  },
  {
   "cell_type": "code",
   "execution_count": null,
   "metadata": {},
   "outputs": [],
   "source": [
    "N, m, M, T, R = map(int, input().split())\n",
    "\n",
    "cnt = t = 0\n",
    "now = m\n",
    "\n",
    "while cnt < N :\n",
    "    if m + T > M :\n",
    "        break\n",
    "    if now + T <= M :\n",
    "        now += T\n",
    "        cnt += 1\n",
    "    else :\n",
    "        now = max(now - R, m)\n",
    "    t += 1\n",
    "print(t if cnt == N else -1)\n",
    "        \n",
    "\n",
    "\n",
    "        \n",
    "        \n",
    "\n",
    "            "
   ]
  },
  {
   "cell_type": "markdown",
   "metadata": {},
   "source": [
    "### 1225"
   ]
  },
  {
   "cell_type": "code",
   "execution_count": null,
   "metadata": {},
   "outputs": [],
   "source": [
    "n, m = map(str, input().split())\n",
    "\n",
    "result = 0\n",
    "\n",
    "for i in range(len(n)) :\n",
    "    for j in range(len(m)) :\n",
    "        result += int(n[i]) * int(m[j])\n",
    "        \n",
    "print(result)"
   ]
  },
  {
   "cell_type": "markdown",
   "metadata": {},
   "source": [
    "### 1252"
   ]
  },
  {
   "cell_type": "code",
   "execution_count": null,
   "metadata": {},
   "outputs": [],
   "source": [
    "a, b = map(str, input().split())\n",
    "\n",
    "a = int(a, 2)\n",
    "b = int (b, 2) \n",
    "\n",
    "c = a + b \n",
    "print(format(c, \"b\"))"
   ]
  },
  {
   "cell_type": "markdown",
   "metadata": {},
   "source": [
    "### 1264"
   ]
  },
  {
   "cell_type": "code",
   "execution_count": null,
   "metadata": {},
   "outputs": [],
   "source": [
    "vowel = [\"a\", \"e\", 'i', 'o', 'u']\n",
    "\n",
    "while True :\n",
    "    a = input()\n",
    "    a = a.lower()\n",
    "    if a == \"#\" :\n",
    "        break\n",
    "    result = 0\n",
    "    for i in a :\n",
    "        i.lower()\n",
    "        for j in vowel :\n",
    "            if i == j :\n",
    "                result += 1\n",
    "    print(result)"
   ]
  },
  {
   "cell_type": "markdown",
   "metadata": {},
   "source": [
    "### 1333"
   ]
  },
  {
   "cell_type": "code",
   "execution_count": null,
   "metadata": {},
   "outputs": [],
   "source": [
    "n, l, d = map(int, input().split())\n",
    "\n",
    "check = [True] * (n * l + 5 * (n - 1))\n",
    "\n",
    "for i in range(n) :\n",
    "    s = (l + 5) * i\n",
    "    for j in range(s, s + l) :\n",
    "        check[j] = False\n",
    "     \n",
    "answer = 0\n",
    "   \n",
    "while answer < len(check) :\n",
    "    if check[answer] :\n",
    "        break\n",
    "    answer += d\n",
    "\n",
    "print(answer)\n",
    "\n",
    "\n"
   ]
  },
  {
   "cell_type": "markdown",
   "metadata": {},
   "source": [
    "### 1350"
   ]
  },
  {
   "cell_type": "code",
   "execution_count": null,
   "metadata": {},
   "outputs": [],
   "source": [
    "n = int(input())\n",
    "f = list(map(int, input().split()))\n",
    "c = int(input())\n",
    "\n",
    "disk = 0\n",
    "\n",
    "for i in range(len(f)) :\n",
    "    if f[i] == 0 :\n",
    "        continue\n",
    "    elif c < f[i] :\n",
    "        if f[i] % c == 0 :\n",
    "            disk += f[i] // c\n",
    "        else :\n",
    "            disk += f[i] // c + 1 \n",
    "    else :\n",
    "       disk += 1\n",
    "    \n",
    "print(disk * c)"
   ]
  },
  {
   "cell_type": "markdown",
   "metadata": {},
   "source": [
    "### 1362"
   ]
  },
  {
   "cell_type": "code",
   "execution_count": null,
   "metadata": {},
   "outputs": [],
   "source": [
    "cnt = 0\n",
    "while True :\n",
    "    cnt += 1\n",
    "    o, w = map(int, input().split())\n",
    "    if o == 0 and w == 0 :\n",
    "        break\n",
    "    while True :\n",
    "        c, d = map(str, input().split())\n",
    "        if c == \"#\" and d == \"0\":\n",
    "            if w > o // 2 and w < o * 2 :\n",
    "                print(f\"{cnt} :-)\")\n",
    "            elif w <= 0 :\n",
    "                print(f\"{cnt} RIP\")\n",
    "            else :\n",
    "                print(f\"{cnt} :-(\")\n",
    "            break\n",
    "        elif w <= 0 :\n",
    "            continue\n",
    "        elif c == \"F\" :\n",
    "            w += int(d)\n",
    "        else :\n",
    "            w -= int(d)\n",
    "        "
   ]
  },
  {
   "cell_type": "markdown",
   "metadata": {},
   "source": [
    "### 1371"
   ]
  },
  {
   "cell_type": "code",
   "execution_count": null,
   "metadata": {},
   "outputs": [],
   "source": [
    "import sys\n",
    "\n",
    "alphabet = [\"a\", 'b', 'c', 'd', 'e', 'f', 'g', 'h', 'i', 'j', 'k', 'l', 'm',\n",
    "            'n', 'o', 'p', 'q', 'r', 's', 't', 'u', 'v', 'w', 'x', 'y', 'z']\n",
    "a = sys.stdin.read()\n",
    "\n",
    "b = {}\n",
    "c = []\n",
    "\n",
    "for i in alphabet:\n",
    "    b[i] = a.count(i)\n",
    "\n",
    "max_b = max(b.values())\n",
    "\n",
    "for i in b:\n",
    "    if b[i] == max_b:\n",
    "        c.append(i)\n",
    "\n",
    "for i in c:\n",
    "    print(i, end=\"\")"
   ]
  },
  {
   "cell_type": "markdown",
   "metadata": {},
   "source": [
    "### 1373"
   ]
  },
  {
   "cell_type": "code",
   "execution_count": 18,
   "metadata": {},
   "outputs": [
    {
     "name": "stdout",
     "output_type": "stream",
     "text": [
      "314\n"
     ]
    }
   ],
   "source": [
    "a = input()\n",
    "a = int(a, 2)\n",
    "\n",
    "print(oct(a)[2:])\n"
   ]
  },
  {
   "cell_type": "markdown",
   "metadata": {},
   "source": [
    "### 1157"
   ]
  },
  {
   "cell_type": "code",
   "execution_count": 26,
   "metadata": {},
   "outputs": [
    {
     "name": "stdout",
     "output_type": "stream",
     "text": [
      "A\n"
     ]
    }
   ],
   "source": [
    "a = input()\n",
    "a = a.lower()\n",
    "li = [0] * 26\n",
    "\n",
    "for i in a :\n",
    "    li[ord(i) - 97] += 1\n",
    "    \n",
    "maxx = max(li)\n",
    "b = []\n",
    "\n",
    "for i in range(len(li)) :\n",
    "    if li[i] == maxx :\n",
    "        b.append(chr(i + 97))\n",
    "        \n",
    "if len(b) != 1 :\n",
    "    print(\"?\")\n",
    "else :\n",
    "    print(b[0].upper())"
   ]
  },
  {
   "cell_type": "markdown",
   "metadata": {},
   "source": [
    "### 1546"
   ]
  },
  {
   "cell_type": "code",
   "execution_count": 29,
   "metadata": {},
   "outputs": [
    {
     "name": "stdout",
     "output_type": "stream",
     "text": [
      "66.66666666666667\n"
     ]
    }
   ],
   "source": [
    "n = int(input())\n",
    "\n",
    "a = list(map(int, input().split()))\n",
    "\n",
    "maxx = max(a) \n",
    "\n",
    "for i in range(len(a)) :\n",
    "    a[i] = a[i] / maxx * 100\n",
    "    \n",
    "summ = sum(a)\n",
    "avg = summ / n\n",
    "print(avg)"
   ]
  },
  {
   "cell_type": "markdown",
   "metadata": {},
   "source": [
    "### 2562"
   ]
  },
  {
   "cell_type": "code",
   "execution_count": 39,
   "metadata": {},
   "outputs": [
    {
     "name": "stdout",
     "output_type": "stream",
     "text": [
      "[3, 29, 38, 12, 12, 57, 74, 40, 85]\n",
      "85\n",
      "9\n"
     ]
    }
   ],
   "source": [
    "num = []\n",
    "for i in range(9) :\n",
    "    a = int(input())\n",
    "    num.append(a)\n",
    "\n",
    "maxx = 0\n",
    "\n",
    "for i in range(1, len(num)) :\n",
    "    if num[i] > num[maxx] :\n",
    "        maxx = i\n",
    "\n",
    "print(num[maxx])\n",
    "print(maxx + 1)        "
   ]
  },
  {
   "cell_type": "markdown",
   "metadata": {},
   "source": [
    "### 2675"
   ]
  },
  {
   "cell_type": "code",
   "execution_count": 46,
   "metadata": {},
   "outputs": [
    {
     "name": "stdout",
     "output_type": "stream",
     "text": [
      "AAABBBCCC\n",
      "/////HHHHHTTTTTPPPPP\n"
     ]
    }
   ],
   "source": [
    "t = int(input())\n",
    "\n",
    "for i in range(t) :\n",
    "    a, b = input().split()\n",
    "    for j in b :\n",
    "        print(j * int(a), end=\"\")\n",
    "    print()\n"
   ]
  },
  {
   "cell_type": "markdown",
   "metadata": {},
   "source": [
    "### 2741"
   ]
  },
  {
   "cell_type": "code",
   "execution_count": null,
   "metadata": {},
   "outputs": [],
   "source": [
    "n = int(input())\n",
    "\n",
    "for i in range(n) :\n",
    "    print(i + 1)"
   ]
  },
  {
   "cell_type": "markdown",
   "metadata": {},
   "source": [
    "### 2742"
   ]
  },
  {
   "cell_type": "code",
   "execution_count": 49,
   "metadata": {},
   "outputs": [
    {
     "name": "stdout",
     "output_type": "stream",
     "text": [
      "5\n",
      "4\n",
      "3\n",
      "2\n",
      "1\n"
     ]
    }
   ],
   "source": [
    "n = int(input())\n",
    "\n",
    "for i in range(n, 0, -1) :\n",
    "    print(i)"
   ]
  },
  {
   "cell_type": "markdown",
   "metadata": {},
   "source": [
    "### 2908"
   ]
  },
  {
   "cell_type": "code",
   "execution_count": 56,
   "metadata": {},
   "outputs": [
    {
     "name": "stdout",
     "output_type": "stream",
     "text": [
      "437\n"
     ]
    }
   ],
   "source": [
    "a, b = input().split()\n",
    "\n",
    "a = a[::-1]\n",
    "b = b[::-1]\n",
    "\n",
    "print(max(int(a), int(b)))\n"
   ]
  },
  {
   "cell_type": "markdown",
   "metadata": {},
   "source": [
    "### 2920"
   ]
  },
  {
   "cell_type": "code",
   "execution_count": 61,
   "metadata": {},
   "outputs": [
    {
     "name": "stdout",
     "output_type": "stream",
     "text": [
      "mixed\n"
     ]
    }
   ],
   "source": [
    "a = list(map(int, input().split()))\n",
    "\n",
    "ascending = True\n",
    "descending = True\n",
    "\n",
    "for i in range(len(a)) :\n",
    "    if a[i] == i + 1 :\n",
    "        continue\n",
    "    else :\n",
    "        ascending = False\n",
    "        \n",
    "for i in range(len(a)) :\n",
    "    if a[i] == len(a) - i :\n",
    "        continue\n",
    "    else :\n",
    "        descending = False\n",
    "        \n",
    "if ascending :\n",
    "    print(\"ascending\")\n",
    "elif descending :\n",
    "    print(\"descending\")\n",
    "else :\n",
    "    print(\"mixed\")"
   ]
  },
  {
   "cell_type": "markdown",
   "metadata": {},
   "source": [
    "### 3052"
   ]
  },
  {
   "cell_type": "code",
   "execution_count": 69,
   "metadata": {},
   "outputs": [
    {
     "name": "stdout",
     "output_type": "stream",
     "text": [
      "6\n"
     ]
    }
   ],
   "source": [
    "num = []\n",
    "mod = []\n",
    "for i in range(10) :\n",
    "    a = int(input())\n",
    "    mod.append(a % 42)\n",
    "\n",
    "for i in mod :\n",
    "    if i not in num :\n",
    "        num.append(i)\n",
    "\n",
    "print(len(num))\n",
    "\n",
    "    "
   ]
  },
  {
   "cell_type": "markdown",
   "metadata": {},
   "source": [
    "### 8958"
   ]
  },
  {
   "cell_type": "code",
   "execution_count": 75,
   "metadata": {},
   "outputs": [
    {
     "name": "stdout",
     "output_type": "stream",
     "text": [
      "55\n"
     ]
    }
   ],
   "source": [
    "t = int(input())\n",
    "\n",
    "for i in range(t) :\n",
    "    cnt = 0\n",
    "    result = 0\n",
    "    a = input()\n",
    "    for j in a :\n",
    "        if j == \"O\" :\n",
    "            cnt += 1\n",
    "            result += cnt\n",
    "        else :\n",
    "            cnt = 0\n",
    "    print(result)\n",
    "\n",
    "        \n",
    "        "
   ]
  },
  {
   "cell_type": "markdown",
   "metadata": {},
   "source": [
    "### 10951"
   ]
  },
  {
   "cell_type": "code",
   "execution_count": 76,
   "metadata": {},
   "outputs": [
    {
     "name": "stdout",
     "output_type": "stream",
     "text": [
      "2\n",
      "5\n",
      "7\n",
      "17\n",
      "7\n"
     ]
    }
   ],
   "source": [
    "while True :\n",
    "    try :\n",
    "        a, b = map(int, input().split())\n",
    "        print(a + b)\n",
    "    except :\n",
    "        break\n"
   ]
  },
  {
   "cell_type": "markdown",
   "metadata": {},
   "source": [
    "### 10952"
   ]
  },
  {
   "cell_type": "code",
   "execution_count": null,
   "metadata": {},
   "outputs": [],
   "source": [
    "while True :\n",
    "    a, b = map(int, input().split())\n",
    "    if a == 0 and b == 0 :\n",
    "        break\n",
    "    print(a + b)"
   ]
  },
  {
   "cell_type": "markdown",
   "metadata": {},
   "source": [
    "### 11654"
   ]
  },
  {
   "cell_type": "code",
   "execution_count": 78,
   "metadata": {},
   "outputs": [
    {
     "name": "stdout",
     "output_type": "stream",
     "text": [
      "49\n"
     ]
    }
   ],
   "source": [
    "a = input()\n",
    "\n",
    "print(ord(a))"
   ]
  },
  {
   "cell_type": "markdown",
   "metadata": {},
   "source": [
    "### 11720"
   ]
  },
  {
   "cell_type": "code",
   "execution_count": 81,
   "metadata": {},
   "outputs": [
    {
     "name": "stdout",
     "output_type": "stream",
     "text": [
      "1\n"
     ]
    }
   ],
   "source": [
    "n = int(input())\n",
    "\n",
    "a = input()\n",
    "\n",
    "result = 0\n",
    "for i in a :\n",
    "    result += int(i)\n",
    "\n",
    "print(result)"
   ]
  },
  {
   "cell_type": "markdown",
   "metadata": {},
   "source": [
    "### 10809"
   ]
  },
  {
   "cell_type": "code",
   "execution_count": 87,
   "metadata": {},
   "outputs": [
    {
     "name": "stdout",
     "output_type": "stream",
     "text": [
      "1 0 -1 -1 2 -1 -1 -1 -1 4 3 -1 -1 7 5 -1 -1 -1 -1 -1 -1 -1 -1 -1 -1 -1 "
     ]
    }
   ],
   "source": [
    "a = input()\n",
    "\n",
    "li = [-1] * 26\n",
    "\n",
    "for i in range(len(a)) :\n",
    "    if li[ord(a[i]) - 97] != -1 :\n",
    "        continue\n",
    "    li[ord(a[i]) - 97] = i\n",
    "\n",
    "for i in li :\n",
    "    print(i, end=\" \")\n",
    "    "
   ]
  },
  {
   "cell_type": "markdown",
   "metadata": {},
   "source": [
    "### 1018"
   ]
  },
  {
   "cell_type": "code",
   "execution_count": 106,
   "metadata": {},
   "outputs": [
    {
     "ename": "ValueError",
     "evalue": "not enough values to unpack (expected 2, got 0)",
     "output_type": "error",
     "traceback": [
      "\u001b[0;31m---------------------------------------------------------------------------\u001b[0m",
      "\u001b[0;31mValueError\u001b[0m                                Traceback (most recent call last)",
      "Input \u001b[0;32mIn [106]\u001b[0m, in \u001b[0;36m<module>\u001b[0;34m\u001b[0m\n\u001b[0;32m----> 1\u001b[0m N, M \u001b[38;5;241m=\u001b[39m \u001b[38;5;28mmap\u001b[39m(\u001b[38;5;28mint\u001b[39m, \u001b[38;5;28minput\u001b[39m()\u001b[38;5;241m.\u001b[39msplit())\n\u001b[1;32m      2\u001b[0m original \u001b[38;5;241m=\u001b[39m []\n\u001b[1;32m      3\u001b[0m count \u001b[38;5;241m=\u001b[39m []\n",
      "\u001b[0;31mValueError\u001b[0m: not enough values to unpack (expected 2, got 0)"
     ]
    }
   ],
   "source": [
    "N, M = map(int, input().split())\n",
    "original = []\n",
    "count = []\n",
    "\n",
    "for _ in range(N):\n",
    "    original.append(input())\n",
    "\n",
    "for a in range(N-7):\n",
    "    for b in range(M-7):\n",
    "        index1 = 0\n",
    "        index2 = 0\n",
    "        for i in range(a, a+8):\n",
    "            for j in range(b, b+8):\n",
    "                if (i+j) % 2 == 0:\n",
    "                    if original[i][j] != 'W':\n",
    "                        index1 += 1\n",
    "                    if original[i][j] != 'B':\n",
    "                        index2 += 1\n",
    "                else:\n",
    "                    if original[i][j] != 'B':\n",
    "                        index1 += 1\n",
    "                    if original[i][j] != 'W':\n",
    "                        index2 += 1\n",
    "        count.append(min(index1, index2))\n",
    "\n",
    "print(min(count))\n",
    "            \n",
    "            \n"
   ]
  },
  {
   "cell_type": "markdown",
   "metadata": {},
   "source": [
    "### 1085"
   ]
  },
  {
   "cell_type": "code",
   "execution_count": 111,
   "metadata": {},
   "outputs": [
    {
     "name": "stdout",
     "output_type": "stream",
     "text": [
      "161\n"
     ]
    }
   ],
   "source": [
    "rect = list(map(int, input().split()))\n",
    "\n",
    "\n",
    "rect[-2] = rect[-2] - rect[0]\n",
    "rect[-1] = rect[-1] - rect[1]\n",
    "\n",
    "print(min(rect))\n"
   ]
  },
  {
   "cell_type": "markdown",
   "metadata": {},
   "source": [
    "### 1181"
   ]
  },
  {
   "cell_type": "code",
   "execution_count": 123,
   "metadata": {},
   "outputs": [
    {
     "name": "stdout",
     "output_type": "stream",
     "text": [
      "no\n"
     ]
    }
   ],
   "source": [
    "n = int(input())\n",
    "\n",
    "word = []\n",
    "word_x = []\n",
    "\n",
    "\n",
    "for i in range(n) :\n",
    "    a = input()\n",
    "    word.append(a)\n",
    "\n",
    "word.sort()\n",
    "word.sort(key=len)\n",
    "\n",
    "for i in word :\n",
    "    if i not in word_x :\n",
    "        word_x.append(i)\n",
    "    \n",
    "for i in word_x :\n",
    "    print(i)\n",
    "    \n",
    "\n",
    "            \n",
    "        \n",
    "        \n",
    "     "
   ]
  },
  {
   "cell_type": "markdown",
   "metadata": {},
   "source": [
    "### 1259"
   ]
  },
  {
   "cell_type": "code",
   "execution_count": 125,
   "metadata": {},
   "outputs": [
    {
     "name": "stdout",
     "output_type": "stream",
     "text": [
      "yes\n",
      "yes\n",
      "yes\n",
      "yes\n",
      "yes\n",
      "yes\n",
      "yes\n",
      "yes\n",
      "yes\n"
     ]
    }
   ],
   "source": [
    "while True :\n",
    "    n = input()\n",
    "    felin = True\n",
    "    if n == '0' :\n",
    "        break\n",
    "    \n",
    "    if len(n) % 2 == 0 :\n",
    "        for i in range(len(n) // 2) :\n",
    "             if n[i] != n[len(n)-1-i] :\n",
    "                felin = False\n",
    "                break\n",
    "        if felin :\n",
    "            print(\"yes\")\n",
    "        else :\n",
    "            print(\"no\")\n",
    "    else :\n",
    "        for i in range(len(n) // 2) :\n",
    "            if n[i] != n[len(n)-1-i] :\n",
    "                felin = False\n",
    "                break\n",
    "        if felin :\n",
    "            print(\"yes\")\n",
    "        else :\n",
    "            print(\"no\")"
   ]
  },
  {
   "cell_type": "markdown",
   "metadata": {},
   "source": [
    "### 1436"
   ]
  },
  {
   "cell_type": "code",
   "execution_count": 128,
   "metadata": {},
   "outputs": [
    {
     "name": "stdout",
     "output_type": "stream",
     "text": [
      "66666\n"
     ]
    }
   ],
   "source": [
    "n = int(input())\n",
    "first = 666\n",
    "\n",
    "while True :\n",
    "    if \"666\" in str(first) :\n",
    "        n -= 1\n",
    "    if n == 0 :\n",
    "        break\n",
    "    first += 1\n",
    "print(first)        \n"
   ]
  },
  {
   "cell_type": "markdown",
   "metadata": {},
   "source": [
    "### 1654"
   ]
  },
  {
   "cell_type": "code",
   "execution_count": 144,
   "metadata": {},
   "outputs": [
    {
     "name": "stdout",
     "output_type": "stream",
     "text": [
      "[2, 2, 2, 2]\n",
      "[50, 50, 50, 50]\n"
     ]
    }
   ],
   "source": [
    "import math\n",
    "\n",
    "k, n = map(int, input().split())\n",
    "\n",
    "lan_line = []\n",
    "num = []\n",
    "\n"
   ]
  }
 ],
 "metadata": {
  "interpreter": {
   "hash": "b0fa6594d8f4cbf19f97940f81e996739fb7646882a419484c72d19e05852a7e"
  },
  "kernelspec": {
   "display_name": "Python 3.9.8 64-bit",
   "language": "python",
   "name": "python3"
  },
  "language_info": {
   "codemirror_mode": {
    "name": "ipython",
    "version": 3
   },
   "file_extension": ".py",
   "mimetype": "text/x-python",
   "name": "python",
   "nbconvert_exporter": "python",
   "pygments_lexer": "ipython3",
   "version": "3.9.9"
  },
  "orig_nbformat": 4
 },
 "nbformat": 4,
 "nbformat_minor": 2
}
