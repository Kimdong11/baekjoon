{
 "cells": [
  {
   "cell_type": "markdown",
   "metadata": {},
   "source": [
    "### 1000"
   ]
  },
  {
   "cell_type": "code",
   "execution_count": null,
   "metadata": {},
   "outputs": [],
   "source": [
    "a, b = map(int, input.split())\n",
    "\n",
    "print(a + b)"
   ]
  },
  {
   "cell_type": "markdown",
   "metadata": {},
   "source": [
    "### 1001"
   ]
  },
  {
   "cell_type": "code",
   "execution_count": null,
   "metadata": {},
   "outputs": [],
   "source": [
    "a, b = map(int, input.split())\n",
    "\n",
    "print(a - b)"
   ]
  },
  {
   "cell_type": "markdown",
   "metadata": {},
   "source": [
    "### 1271"
   ]
  },
  {
   "cell_type": "code",
   "execution_count": 2,
   "metadata": {},
   "outputs": [
    {
     "name": "stdout",
     "output_type": "stream",
     "text": [
      "10\n",
      "0\n"
     ]
    }
   ],
   "source": [
    "n, m = map(int, input().split())\n",
    "\n",
    "print(n // m)\n",
    "print(n % m)\n"
   ]
  },
  {
   "cell_type": "markdown",
   "metadata": {},
   "source": [
    "### 1550"
   ]
  },
  {
   "cell_type": "code",
   "execution_count": 1,
   "metadata": {},
   "outputs": [
    {
     "name": "stdout",
     "output_type": "stream",
     "text": [
      "1\n"
     ]
    }
   ],
   "source": [
    "n = input()\n",
    "\n",
    "print(int(n, 16))\n",
    "    "
   ]
  },
  {
   "cell_type": "markdown",
   "metadata": {},
   "source": [
    "### 2338 "
   ]
  },
  {
   "cell_type": "code",
   "execution_count": 12,
   "metadata": {},
   "outputs": [
    {
     "name": "stdout",
     "output_type": "stream",
     "text": [
      "0\n",
      "2\n",
      "-1\n"
     ]
    }
   ],
   "source": [
    "A = int(input())\n",
    "B = int(input())\n",
    "\n",
    "print(A + B)\n",
    "print(A - B)\n",
    "print(A * B)"
   ]
  },
  {
   "cell_type": "markdown",
   "metadata": {},
   "source": [
    "### 2475"
   ]
  },
  {
   "cell_type": "code",
   "execution_count": 13,
   "metadata": {},
   "outputs": [
    {
     "name": "stdout",
     "output_type": "stream",
     "text": [
      "1\n"
     ]
    }
   ],
   "source": [
    "a, b, c, d, e = map(int, input().split())\n",
    "\n",
    "print((a ** 2 + b ** 2 + c ** 2 + d ** 2 + e ** 2) % 10)"
   ]
  },
  {
   "cell_type": "markdown",
   "metadata": {},
   "source": [
    "### 2557"
   ]
  },
  {
   "cell_type": "code",
   "execution_count": 2,
   "metadata": {},
   "outputs": [
    {
     "name": "stdout",
     "output_type": "stream",
     "text": [
      "Hello World!\n"
     ]
    }
   ],
   "source": [
    "print('Hello World!')"
   ]
  },
  {
   "cell_type": "markdown",
   "metadata": {},
   "source": [
    "### 2558"
   ]
  },
  {
   "cell_type": "code",
   "execution_count": 3,
   "metadata": {},
   "outputs": [
    {
     "name": "stdout",
     "output_type": "stream",
     "text": [
      "3\n"
     ]
    }
   ],
   "source": [
    "a = int(input())\n",
    "b = int(input())\n",
    "\n",
    "print(a + b)"
   ]
  },
  {
   "cell_type": "markdown",
   "metadata": {},
   "source": [
    "### 2845"
   ]
  },
  {
   "cell_type": "code",
   "execution_count": 5,
   "metadata": {},
   "outputs": [
    {
     "name": "stdout",
     "output_type": "stream",
     "text": [
      "1 -1 -900 100 3\n"
     ]
    }
   ],
   "source": [
    "l, p = map(int, input().split())\n",
    "a, b, c, d, e = map(int, input().split())\n",
    "\n",
    "num = l * p \n",
    "\n",
    "print(num - a, num - b, num - c, num - d, num - e)"
   ]
  },
  {
   "cell_type": "markdown",
   "metadata": {},
   "source": [
    "### 2914"
   ]
  },
  {
   "cell_type": "code",
   "execution_count": 3,
   "metadata": {},
   "outputs": [
    {
     "name": "stdout",
     "output_type": "stream",
     "text": [
      "100\n"
     ]
    }
   ],
   "source": [
    "a, i = map(int, input().split())\n",
    "\n",
    "answer = a * (i - 1) + 1\n",
    "print(answer) "
   ]
  },
  {
   "cell_type": "markdown",
   "metadata": {},
   "source": [
    "### 3003"
   ]
  },
  {
   "cell_type": "code",
   "execution_count": 8,
   "metadata": {},
   "outputs": [
    {
     "name": "stdout",
     "output_type": "stream",
     "text": [
      "-1 0 0 1 0 7 "
     ]
    }
   ],
   "source": [
    "a = list(map(int, input().split()))\n",
    "\n",
    "chess = [1, 1, 2, 2, 2, 8]\n",
    "answer = []\n",
    "\n",
    "for i in range(len(a)) :\n",
    "    if a[i] != chess[i] :\n",
    "        answer.append(chess[i] - a[i])\n",
    "    else :\n",
    "        answer.append(chess[i] - a[i])\n",
    "\n",
    "for i in answer :\n",
    "    print(i, end=\" \")"
   ]
  },
  {
   "cell_type": "markdown",
   "metadata": {},
   "source": [
    "### 3046"
   ]
  },
  {
   "cell_type": "code",
   "execution_count": null,
   "metadata": {},
   "outputs": [],
   "source": [
    "r1, s = map(int, input().split())\n",
    "\n",
    "r2 = (s * 2) - r1\n",
    "print(r2)\n"
   ]
  },
  {
   "cell_type": "markdown",
   "metadata": {},
   "source": [
    "### 5337"
   ]
  },
  {
   "cell_type": "code",
   "execution_count": 3,
   "metadata": {},
   "outputs": [
    {
     "name": "stdout",
     "output_type": "stream",
     "text": [
      ".  .   .\n",
      "|  | _ | _. _ ._ _  _\n",
      "|/\\|(/.|(_.(_)[ | )(/.\n"
     ]
    }
   ],
   "source": [
    "print('''.  .   .\n",
    "|  | _ | _. _ ._ _  _\n",
    "|/\\|(/.|(_.(_)[ | )(/.''')\n",
    "\n"
   ]
  },
  {
   "cell_type": "markdown",
   "metadata": {},
   "source": [
    "### 5338"
   ]
  },
  {
   "cell_type": "code",
   "execution_count": 4,
   "metadata": {},
   "outputs": [
    {
     "name": "stdout",
     "output_type": "stream",
     "text": [
      "       _.-;;-._\n",
      "'-..-'|   ||   |\n",
      "'-..-'|_.-;;-._|\n",
      "'-..-'|   ||   |\n",
      "'-..-'|_.-''-._|\n"
     ]
    }
   ],
   "source": [
    "print(\"\"\"       _.-;;-._\n",
    "'-..-'|   ||   |\n",
    "'-..-'|_.-;;-._|\n",
    "'-..-'|   ||   |\n",
    "'-..-'|_.-''-._|\"\"\")"
   ]
  },
  {
   "cell_type": "markdown",
   "metadata": {},
   "source": [
    "### 5522"
   ]
  },
  {
   "cell_type": "code",
   "execution_count": 5,
   "metadata": {},
   "outputs": [
    {
     "name": "stdout",
     "output_type": "stream",
     "text": [
      "15\n"
     ]
    }
   ],
   "source": [
    "cards = []\n",
    "\n",
    "for i in range(5) :\n",
    "    a = int(input())\n",
    "    cards.append(a)\n",
    "    \n",
    "print(sum(cards))\n",
    "    "
   ]
  },
  {
   "cell_type": "markdown",
   "metadata": {},
   "source": [
    "### 1297"
   ]
  },
  {
   "cell_type": "code",
   "execution_count": 23,
   "metadata": {},
   "outputs": [
    {
     "name": "stdout",
     "output_type": "stream",
     "text": [
      "25 45\n"
     ]
    }
   ],
   "source": [
    "d, h, w  = map(int, input().split())\n",
    "\n",
    "height = int((h * d) / ((h ** 2) + (w ** 2)) ** (1 / 2))\n",
    "width = int((w * d) / ((h ** 2) + (w ** 2)) ** (1 / 2))\n",
    "\n",
    "print(height, width)\n"
   ]
  },
  {
   "cell_type": "markdown",
   "metadata": {},
   "source": [
    "### 1330"
   ]
  },
  {
   "cell_type": "code",
   "execution_count": 24,
   "metadata": {},
   "outputs": [
    {
     "name": "stdout",
     "output_type": "stream",
     "text": [
      "<\n"
     ]
    }
   ],
   "source": [
    "a, b = map(int, input().split())\n",
    "\n",
    "if a == b :\n",
    "    print(\"==\")\n",
    "elif a > b :\n",
    "    print(\">\")\n",
    "else :\n",
    "    print(\"<\")"
   ]
  },
  {
   "cell_type": "markdown",
   "metadata": {},
   "source": [
    "### 1712"
   ]
  },
  {
   "cell_type": "code",
   "execution_count": 40,
   "metadata": {},
   "outputs": [
    {
     "name": "stdout",
     "output_type": "stream",
     "text": [
      "11\n"
     ]
    }
   ],
   "source": [
    "a, b, c = map(int, input().split())\n",
    "\n",
    "if c < b or c == b :\n",
    "    print(-1)\n",
    "else :\n",
    "    i = a // (c - b)\n",
    "    print(i + 1)\n",
    "\n",
    "    "
   ]
  },
  {
   "cell_type": "markdown",
   "metadata": {},
   "source": [
    "### 2420"
   ]
  },
  {
   "cell_type": "code",
   "execution_count": 42,
   "metadata": {},
   "outputs": [
    {
     "name": "stdout",
     "output_type": "stream",
     "text": [
      "7\n"
     ]
    }
   ],
   "source": [
    "n, m = map(int, input().split()) \n",
    "\n",
    "c = int(((n - m) ** 2) ** (1/2))\n",
    "\n",
    "print(c)"
   ]
  },
  {
   "cell_type": "markdown",
   "metadata": {},
   "source": [
    "### 2480"
   ]
  },
  {
   "cell_type": "code",
   "execution_count": 47,
   "metadata": {},
   "outputs": [
    {
     "name": "stdout",
     "output_type": "stream",
     "text": [
      "1300\n"
     ]
    }
   ],
   "source": [
    "n = list(map(int, input().split()))\n",
    "count = 0\n",
    "a = 0\n",
    "\n",
    "for i in n :\n",
    "    if count < n.count(i) :\n",
    "        count = n.count(i)\n",
    "        a = i\n",
    "    \n",
    "if count == 1 :\n",
    "    answer = max(n) * 100\n",
    "elif count == 2 :\n",
    "    answer = 1000 + a * 100\n",
    "else :\n",
    "    answer = 10000 + a * 1000\n",
    "    \n",
    "print(answer)\n",
    "\n"
   ]
  },
  {
   "cell_type": "markdown",
   "metadata": {},
   "source": [
    "### 2552"
   ]
  },
  {
   "cell_type": "code",
   "execution_count": 56,
   "metadata": {},
   "outputs": [
    {
     "name": "stdout",
     "output_type": "stream",
     "text": [
      "0 13\n"
     ]
    }
   ],
   "source": [
    "a, b = map(int, input().split())\n",
    "c = int(input())\n",
    "h = 0\n",
    "m = 0\n",
    "\n",
    "if c > 59 :\n",
    "    h = c // 60\n",
    "    m = c % 60\n",
    "\n",
    "if h > 0 or m > 0 :\n",
    "    a = a + h\n",
    "    b = b + m\n",
    "    if b > 59 :\n",
    "        a += 1\n",
    "        b -= 60\n",
    "    if a > 23 :\n",
    "        a -= 24\n",
    "else :\n",
    "    b = b + c\n",
    "    if b > 59 :\n",
    "        a += 1\n",
    "        b -= 60\n",
    "    if a > 23 :\n",
    "        a -= 24\n",
    "        \n",
    "print(a, b)"
   ]
  },
  {
   "cell_type": "markdown",
   "metadata": {},
   "source": [
    "### 2430"
   ]
  },
  {
   "cell_type": "code",
   "execution_count": 81,
   "metadata": {},
   "outputs": [
    {
     "name": "stdout",
     "output_type": "stream",
     "text": [
      "100 15\n",
      "60\n",
      "19 21 0\n"
     ]
    }
   ],
   "source": [
    "a, b, c= map(int, input().split())\n",
    "d = int(input())\n",
    "\n",
    "b += d // 60\n",
    "c += d % 60\n",
    "\n",
    "b += c // 60\n",
    "c = c % 60\n",
    "\n",
    "a += b // 60\n",
    "b = b % 60\n",
    "\n",
    "a = a % 24\n",
    "    \n",
    "print(a, b, c)\n",
    "        \n"
   ]
  },
  {
   "cell_type": "markdown",
   "metadata": {},
   "source": [
    "### 2588"
   ]
  },
  {
   "cell_type": "code",
   "execution_count": 94,
   "metadata": {},
   "outputs": [
    {
     "name": "stdout",
     "output_type": "stream",
     "text": [
      "2360\n",
      "3776\n",
      "1416\n",
      "181720\n"
     ]
    }
   ],
   "source": [
    "a = input()\n",
    "b = input()\n",
    "c = []\n",
    "result = 0\n",
    "for i in range(1, len(a) + 1) :\n",
    "    print(int(a) * int(b[-i]))\n",
    "    c.append(int(a) * int(b[-i]) * (10 ** (i - 1)))\n",
    "    \n",
    "for i in c :\n",
    "    result += i\n",
    "print(result)"
   ]
  },
  {
   "cell_type": "markdown",
   "metadata": {},
   "source": [
    "### 2752"
   ]
  },
  {
   "cell_type": "code",
   "execution_count": 109,
   "metadata": {},
   "outputs": [
    {
     "name": "stdout",
     "output_type": "stream",
     "text": [
      "3\n",
      "4\n",
      "5\n"
     ]
    }
   ],
   "source": [
    "a = list(map(int, input().split()))\n",
    "\n",
    "n = len(a)\n",
    "for i in range(1, n):\n",
    "    j = i\n",
    "    tmp = a[i]\n",
    "    while j > 0 and a[j-1] > tmp:\n",
    "        a[j] = a[j-1]\n",
    "        j -= 1\n",
    "    a[j] = tmp\n",
    "\n",
    "for i in a :\n",
    "    print(i)"
   ]
  },
  {
   "cell_type": "markdown",
   "metadata": {},
   "source": [
    "### 2753"
   ]
  },
  {
   "cell_type": "code",
   "execution_count": 112,
   "metadata": {},
   "outputs": [
    {
     "name": "stdout",
     "output_type": "stream",
     "text": [
      "1\n"
     ]
    }
   ],
   "source": [
    "a = int(input())\n",
    "\n",
    "if a % 4 == 0 and a % 100 != 0 or a % 400 == 0 :\n",
    "    print(1)\n",
    "else :\n",
    "    print(0)"
   ]
  },
  {
   "cell_type": "markdown",
   "metadata": {},
   "source": [
    "### 3004"
   ]
  },
  {
   "cell_type": "code",
   "execution_count": 124,
   "metadata": {},
   "outputs": [
    {
     "name": "stdout",
     "output_type": "stream",
     "text": [
      "0\n",
      "2\n"
     ]
    }
   ],
   "source": [
    "n = int(input())\n",
    "\n",
    "if n % 2 == 0 :\n",
    "    print((n // 2 + 1) ** 2)\n",
    "\n",
    "else :\n",
    "    print((n // 2 + 1) * (n // 2 + 2))"
   ]
  },
  {
   "cell_type": "markdown",
   "metadata": {},
   "source": [
    "### 4299"
   ]
  },
  {
   "cell_type": "code",
   "execution_count": 130,
   "metadata": {},
   "outputs": [
    {
     "name": "stdout",
     "output_type": "stream",
     "text": [
      "-1\n"
     ]
    }
   ],
   "source": [
    "a, b = map(int, input().split())\n",
    "num = []\n",
    "\n",
    "for i in range(a) : \n",
    "    for j in range(a) :\n",
    "        if i + j == a and i - j == b :\n",
    "            num.append(i)\n",
    "            num.append(j)\n",
    "if len(num) :       \n",
    "    for i in num :\n",
    "        print(i, end=\" \")\n",
    "else :\n",
    "    print(-1)"
   ]
  },
  {
   "cell_type": "markdown",
   "metadata": {},
   "source": [
    "### 5532"
   ]
  },
  {
   "cell_type": "code",
   "execution_count": 144,
   "metadata": {},
   "outputs": [
    {
     "name": "stdout",
     "output_type": "stream",
     "text": [
      "7\n"
     ]
    }
   ],
   "source": [
    "l = int(input())\n",
    "a = int(input())\n",
    "b = int(input())\n",
    "c = int(input())\n",
    "d = int(input())\n",
    "\n",
    "if a % c == 0 or b / d == 0 :\n",
    "    if a // c > b // d :\n",
    "        l -= a // c\n",
    "    else :\n",
    "        l -= b // d\n",
    "else :\n",
    "    if a / c > b / d :\n",
    "        l -= a // c + 1\n",
    "    else :\n",
    "        l -= b // d + 1\n",
    "        \n",
    "print(l)"
   ]
  },
  {
   "cell_type": "markdown",
   "metadata": {},
   "source": [
    "### 5543"
   ]
  },
  {
   "cell_type": "code",
   "execution_count": 155,
   "metadata": {},
   "outputs": [
    {
     "ename": "ValueError",
     "evalue": "invalid literal for int() with base 10: ''",
     "output_type": "error",
     "traceback": [
      "\u001b[0;31m---------------------------------------------------------------------------\u001b[0m",
      "\u001b[0;31mValueError\u001b[0m                                Traceback (most recent call last)",
      "Input \u001b[0;32mIn [155]\u001b[0m, in \u001b[0;36m<module>\u001b[0;34m\u001b[0m\n\u001b[1;32m      1\u001b[0m bugger \u001b[38;5;241m=\u001b[39m []\n\u001b[1;32m      2\u001b[0m bever \u001b[38;5;241m=\u001b[39m []\n\u001b[0;32m----> 4\u001b[0m a \u001b[38;5;241m=\u001b[39m bugger\u001b[38;5;241m.\u001b[39mappend(\u001b[38;5;28;43mint\u001b[39;49m\u001b[43m(\u001b[49m\u001b[38;5;28;43minput\u001b[39;49m\u001b[43m(\u001b[49m\u001b[43m)\u001b[49m\u001b[43m)\u001b[49m)\n\u001b[1;32m      5\u001b[0m b \u001b[38;5;241m=\u001b[39m bugger\u001b[38;5;241m.\u001b[39mappend(\u001b[38;5;28mint\u001b[39m(\u001b[38;5;28minput\u001b[39m()))\n\u001b[1;32m      6\u001b[0m c \u001b[38;5;241m=\u001b[39m bugger\u001b[38;5;241m.\u001b[39mappend(\u001b[38;5;28mint\u001b[39m(\u001b[38;5;28minput\u001b[39m()))\n",
      "\u001b[0;31mValueError\u001b[0m: invalid literal for int() with base 10: ''"
     ]
    }
   ],
   "source": [
    "bugger = []\n",
    "bever = []\n",
    "\n",
    "a = bugger.append(int(input()))\n",
    "b = bugger.append(int(input()))\n",
    "c = bugger.append(int(input()))\n",
    "d = bever.append(int(input()))\n",
    "e = bever.append(int(input()))\n",
    "\n",
    "result = []\n",
    "\n",
    "for i in bugger :\n",
    "    for j in bever :\n",
    "        result.append(i + j - 50)\n",
    "\n",
    "result.sort()\n",
    "\n",
    "print(result[0])\n"
   ]
  },
  {
   "cell_type": "markdown",
   "metadata": {},
   "source": [
    "### 5575"
   ]
  },
  {
   "cell_type": "code",
   "execution_count": 159,
   "metadata": {},
   "outputs": [
    {
     "name": "stdout",
     "output_type": "stream",
     "text": [
      "-26 30 3\n",
      "9 19 0\n",
      "1 0 0\n"
     ]
    }
   ],
   "source": [
    "a, b, c, d, e, f = map(int, input().split())\n",
    "g, h, i, j, k, l = map(int, input().split())\n",
    "m, n, o, p, q, r = map(int, input().split())\n",
    "\n",
    "d -= a \n",
    "j -= g\n",
    "p -= m\n",
    "e -= b\n",
    "k -= h\n",
    "q -= n\n",
    "f -= c\n",
    "l -= i\n",
    "r -= o\n",
    "\n",
    "if f < 0 :\n",
    "    e -= 1\n",
    "    f += 60\n",
    "if l < 0 :\n",
    "    k -= 1\n",
    "    l += 60 \n",
    "if r < 0 :\n",
    "    q -= 1\n",
    "    r += 60\n",
    "\n",
    "if e < 0 :\n",
    "    d -= 1\n",
    "    e += 60\n",
    "if k < 0 :\n",
    "    j -= 1\n",
    "    k += 60 \n",
    "if q < 0 :\n",
    "    p -= 1\n",
    "    q += 60\n",
    "    \n",
    "print(d, e, f)\n",
    "print(j, k, l)\n",
    "print(p, q, r)"
   ]
  },
  {
   "cell_type": "markdown",
   "metadata": {},
   "source": [
    "### 5596"
   ]
  },
  {
   "cell_type": "code",
   "execution_count": null,
   "metadata": {},
   "outputs": [],
   "source": [
    "a, b, c, d = map(int, input().split())\n",
    "e, f, g, h = map(int, input().split())\n",
    "\n",
    "s = a + b + c + d\n",
    "t = e + f + g + h\n",
    "\n",
    "if s > t :\n",
    "    print(s)\n",
    "elif s == t :\n",
    "    print(s)\n",
    "else :\n",
    "    print(t)\n"
   ]
  },
  {
   "cell_type": "markdown",
   "metadata": {},
   "source": [
    "### 5893"
   ]
  },
  {
   "cell_type": "code",
   "execution_count": 177,
   "metadata": {},
   "outputs": [
    {
     "name": "stdout",
     "output_type": "stream",
     "text": [
      "1011101100\n"
     ]
    }
   ],
   "source": [
    "a = input()\n",
    "\n",
    "b = int(a, 2) * 17\n",
    "\n",
    "print(bin(b)[2:])"
   ]
  },
  {
   "cell_type": "markdown",
   "metadata": {},
   "source": [
    "### 9498"
   ]
  },
  {
   "cell_type": "code",
   "execution_count": 182,
   "metadata": {},
   "outputs": [
    {
     "name": "stdout",
     "output_type": "stream",
     "text": [
      "F\n"
     ]
    }
   ],
   "source": [
    "a  = int(input())\n",
    "\n",
    "if a >= 90 :\n",
    "    print(\"A\")\n",
    "elif a >= 80 :\n",
    "    print(\"B\")\n",
    "elif a >= 70 :\n",
    "    print(\"C\")\n",
    "elif a >= 60 :\n",
    "    print(\"D\")\n",
    "else :\n",
    "    print(\"F\")"
   ]
  },
  {
   "cell_type": "markdown",
   "metadata": {},
   "source": [
    "### 10039"
   ]
  },
  {
   "cell_type": "code",
   "execution_count": 195,
   "metadata": {},
   "outputs": [
    {
     "name": "stdout",
     "output_type": "stream",
     "text": [
      "68\n"
     ]
    }
   ],
   "source": [
    "num = []\n",
    "\n",
    "num.append(int(input()))\n",
    "num.append(int(input()))\n",
    "num.append(int(input()))\n",
    "num.append(int(input()))\n",
    "num.append(int(input()))\n",
    "result = 0\n",
    "\n",
    "for i in range(len(num)) :\n",
    "    if num[i] < 40 :\n",
    "        num[i] = 40 \n",
    "    result += num[i]\n",
    "    \n",
    "result = result // len(num)\n",
    "\n",
    "print(result)"
   ]
  },
  {
   "cell_type": "markdown",
   "metadata": {},
   "source": [
    "###  10101"
   ]
  },
  {
   "cell_type": "code",
   "execution_count": 203,
   "metadata": {},
   "outputs": [
    {
     "name": "stdout",
     "output_type": "stream",
     "text": [
      "Isosceles\n"
     ]
    }
   ],
   "source": [
    "a = int(input())\n",
    "b = int(input())\n",
    "c = int(input())\n",
    "\n",
    "if a + b + c == 180 :\n",
    "    if a == b and b == c :\n",
    "        print(\"Equilateral\")\n",
    "    elif a == b or a == c or b == c :\n",
    "        print(\"Isosceles\")\n",
    "    else :\n",
    "        print(\"Scalene\")\n",
    "else :\n",
    "     print('Error')\n",
    "    "
   ]
  },
  {
   "cell_type": "markdown",
   "metadata": {},
   "source": [
    "### 10156"
   ]
  },
  {
   "cell_type": "code",
   "execution_count": 208,
   "metadata": {},
   "outputs": [
    {
     "name": "stdout",
     "output_type": "stream",
     "text": [
      "0\n"
     ]
    }
   ],
   "source": [
    "k, n, m = map(int, input().split())\n",
    "\n",
    "if k * n > m :\n",
    "    print(k * n - m)\n",
    "else :\n",
    "    print(0)"
   ]
  },
  {
   "cell_type": "markdown",
   "metadata": {},
   "source": [
    "### 10162"
   ]
  },
  {
   "cell_type": "code",
   "execution_count": 219,
   "metadata": {},
   "outputs": [
    {
     "name": "stdout",
     "output_type": "stream",
     "text": [
      "-1\n"
     ]
    }
   ],
   "source": [
    "t = int(input())\n",
    "\n",
    "if t % 10 != 0 :\n",
    "    print(-1)\n",
    "else :\n",
    "    a = t // 300\n",
    "    b = (t % 300) // 60\n",
    "    c = ((t % 300) % 60) // 10\n",
    "    print(a, b, c)\n",
    "\n"
   ]
  },
  {
   "cell_type": "markdown",
   "metadata": {},
   "source": [
    "### 10179"
   ]
  },
  {
   "cell_type": "code",
   "execution_count": 231,
   "metadata": {},
   "outputs": [
    {
     "name": "stdout",
     "output_type": "stream",
     "text": [
      "$80.00\n",
      "$47.99\n",
      "$16.00\n"
     ]
    }
   ],
   "source": [
    "t = int(input())\n",
    "for i in range(t):\n",
    "    price = float(input())\n",
    "    print(\"${:.2f}\".format(round(price * 0.8, 2))) "
   ]
  },
  {
   "cell_type": "markdown",
   "metadata": {},
   "source": [
    "### 10707\n"
   ]
  },
  {
   "cell_type": "code",
   "execution_count": 233,
   "metadata": {},
   "outputs": [
    {
     "name": "stdout",
     "output_type": "stream",
     "text": [
      "1800\n"
     ]
    }
   ],
   "source": [
    "a = int(input())\n",
    "b = int(input())\n",
    "c = int(input())\n",
    "d = int(input())\n",
    "e = int(input())\n",
    "\n",
    "x = a * e\n",
    "if e > c :\n",
    "    y = b + (e - c) * d\n",
    "else :\n",
    "    y = b\n",
    "\n",
    "if x > y :\n",
    "    print(y)\n",
    "else :\n",
    "    print(x)"
   ]
  },
  {
   "cell_type": "markdown",
   "metadata": {},
   "source": [
    "### 10768"
   ]
  },
  {
   "cell_type": "code",
   "execution_count": 7,
   "metadata": {},
   "outputs": [
    {
     "name": "stdout",
     "output_type": "stream",
     "text": [
      "Special\n"
     ]
    }
   ],
   "source": [
    "a = int(input())\n",
    "b = int(input())\n",
    "\n",
    "c = a % 2\n",
    "\n",
    "if a > 2 :\n",
    "    print(\"After\")\n",
    "elif a == 2 :\n",
    "    if b == 18 :\n",
    "        print(\"Special\")\n",
    "    elif b > 18 :\n",
    "        print(\"After\")\n",
    "    else :\n",
    "        print(\"Before\")\n",
    "else :\n",
    "    print(\"Before\")"
   ]
  },
  {
   "cell_type": "markdown",
   "metadata": {},
   "source": [
    "### 10797"
   ]
  },
  {
   "cell_type": "code",
   "execution_count": 14,
   "metadata": {},
   "outputs": [
    {
     "name": "stdout",
     "output_type": "stream",
     "text": [
      "5\n"
     ]
    }
   ],
   "source": [
    "a = input()\n",
    "b = list(map(int, input().split()))\n",
    "z = int(a)\n",
    "cnt = 0\n",
    "\n",
    "if len(a) > 1 :\n",
    "    z = int(a[1])     \n",
    "\n",
    "for i in b :\n",
    "    if z - i == 0 :\n",
    "        cnt += 1\n",
    "\n",
    "print(cnt) \n",
    "        \n"
   ]
  },
  {
   "cell_type": "markdown",
   "metadata": {},
   "source": [
    "### 11282"
   ]
  },
  {
   "cell_type": "code",
   "execution_count": 1,
   "metadata": {},
   "outputs": [
    {
     "name": "stdout",
     "output_type": "stream",
     "text": [
      "갿\n"
     ]
    }
   ],
   "source": [
    "print(chr(44031+int(input())))"
   ]
  },
  {
   "cell_type": "markdown",
   "metadata": {},
   "source": [
    "### 11943"
   ]
  },
  {
   "cell_type": "code",
   "execution_count": 6,
   "metadata": {},
   "outputs": [
    {
     "name": "stdout",
     "output_type": "stream",
     "text": [
      "3\n"
     ]
    }
   ],
   "source": [
    "a, b = map(int, input().split())\n",
    "c, d = map(int, input().split())\n",
    "\n",
    "if a + d > b + c :\n",
    "    print(b + c)\n",
    "    \n",
    "else :\n",
    "    print(a + d)\n"
   ]
  },
  {
   "cell_type": "markdown",
   "metadata": {},
   "source": [
    "### 11948"
   ]
  },
  {
   "cell_type": "code",
   "execution_count": 9,
   "metadata": {},
   "outputs": [
    {
     "name": "stdout",
     "output_type": "stream",
     "text": [
      "228\n"
     ]
    }
   ],
   "source": [
    "a = int(input())\n",
    "b = int(input())\n",
    "c = int(input())\n",
    "d = int(input())\n",
    "e = int(input())\n",
    "f = int(input())\n",
    "\n",
    "four = [a, b, c, d]\n",
    "two = [e, f]\n",
    "\n",
    "four.sort(reverse=True)\n",
    "two.sort(reverse=True)\n",
    "\n",
    "result = 0\n",
    "\n",
    "for i in range(len(four) - 1) :\n",
    "    result += four[i]\n",
    "\n",
    "result += two[0]\n",
    "\n",
    "print(result)\n",
    "\n",
    "\n",
    "\n"
   ]
  },
  {
   "cell_type": "markdown",
   "metadata": {},
   "source": [
    "### 13866"
   ]
  },
  {
   "cell_type": "code",
   "execution_count": 12,
   "metadata": {},
   "outputs": [
    {
     "name": "stdout",
     "output_type": "stream",
     "text": [
      "0\n"
     ]
    }
   ],
   "source": [
    "a = list(map(int, input().split()))\n",
    "\n",
    "a.sort()\n",
    "\n",
    "team_a = a[0] + a[len(a) - 1]\n",
    "team_b = a[1] + a[len(a) - 2]\n",
    "\n",
    "result = team_a - team_b\n",
    "\n",
    "if result < 0 :\n",
    "    result *= -1\n",
    "    print(result)\n",
    "else :\n",
    "    print(result)\n",
    "\n"
   ]
  },
  {
   "cell_type": "markdown",
   "metadata": {},
   "source": [
    "### 1009"
   ]
  },
  {
   "cell_type": "code",
   "execution_count": 29,
   "metadata": {},
   "outputs": [
    {
     "name": "stdout",
     "output_type": "stream",
     "text": [
      "7\n"
     ]
    }
   ],
   "source": [
    "n = int(input())\n",
    "\n",
    "for i in range(n) :\n",
    "    a, b = map(int, input().split())\n",
    "    c = pow(a, b, 10)\n",
    "    \n",
    "    if not c :\n",
    "        print(c + 10)\n",
    "    else :\n",
    "        print(c)"
   ]
  },
  {
   "cell_type": "markdown",
   "metadata": {},
   "source": [
    "### 1085"
   ]
  },
  {
   "cell_type": "code",
   "execution_count": 53,
   "metadata": {},
   "outputs": [
    {
     "name": "stdout",
     "output_type": "stream",
     "text": [
      "347\n"
     ]
    }
   ],
   "source": [
    "x, y, w, h = map(int, input().split())\n",
    "\n",
    "my = [x, y]\n",
    "grid = [w, h]\n",
    "\n",
    "a = grid[0] - my[0]\n",
    "b =  grid[1] - my[1]\n",
    "result = x\n",
    "\n",
    "if result > a :\n",
    "    result = a\n",
    "if result > b :\n",
    "    result = b\n",
    "if result > y :\n",
    "    result = y\n",
    "\n",
    "print(result)\n",
    "\n",
    "\n",
    " "
   ]
  },
  {
   "cell_type": "markdown",
   "metadata": {},
   "source": [
    "### 1212"
   ]
  },
  {
   "cell_type": "code",
   "execution_count": 55,
   "metadata": {},
   "outputs": [
    {
     "name": "stdout",
     "output_type": "stream",
     "text": [
      "0\n",
      "-\n",
      "+\n"
     ]
    }
   ],
   "source": [
    "from sys import stdin\n",
    "\n",
    "for i in range(3) :\n",
    "    result = 0\n",
    "    a = int(stdin.readline())\n",
    "    for j in range(a) :\n",
    "        b = int(stdin.readline())\n",
    "        result += b\n",
    "    if result < 0 :\n",
    "        print(\"-\")\n",
    "    elif result == 0 :\n",
    "        print(\"0\")\n",
    "    else :\n",
    "        print(\"+\")"
   ]
  },
  {
   "cell_type": "markdown",
   "metadata": {},
   "source": [
    "### 1267"
   ]
  },
  {
   "cell_type": "code",
   "execution_count": 80,
   "metadata": {},
   "outputs": [
    {
     "name": "stdout",
     "output_type": "stream",
     "text": [
      "Y M 90\n"
     ]
    }
   ],
   "source": [
    "n = int(input())\n",
    "\n",
    "a = list(map(int, input().split()))\n",
    "\n",
    "y = []\n",
    "m = []\n",
    "\n",
    "result_y = 0\n",
    "result_m = 0\n",
    "\n",
    "for i in range(len(a)) :\n",
    "    y.append(a[i] % 30)\n",
    "    m.append(a[i] % 60)\n",
    "\n",
    "for i in range(len(y)):\n",
    "    if y[i] == 0 :\n",
    "        result_y += ((a[i] // 30 + 1) * 10)\n",
    "    else :\n",
    "        result_y += ((a[i] // 30 + 1) * 10)\n",
    "        \n",
    "for j in range(len(m)) :\n",
    "    if m[j] == 0 :\n",
    "        result_m += ((a[j] // 60 + 1) * 15)\n",
    "    else : \n",
    "        result_m += ((a[j] // 60 + 1) * 15)\n",
    "            \n",
    "if result_y > result_m :\n",
    "    print(\"M\",result_m)\n",
    "elif result_y == result_m :\n",
    "    print(\"Y\",\"M\", result_m)\n",
    "else :\n",
    "    print(\"Y\", result_y)\n"
   ]
  },
  {
   "cell_type": "markdown",
   "metadata": {},
   "source": [
    "### 1284"
   ]
  },
  {
   "cell_type": "code",
   "execution_count": 82,
   "metadata": {},
   "outputs": [
    {
     "name": "stdout",
     "output_type": "stream",
     "text": [
      "13\n",
      "15\n",
      "14\n",
      "11\n",
      "11\n",
      "16\n",
      "1\n",
      "1\n",
      "1\n",
      "1\n"
     ]
    }
   ],
   "source": [
    "while True :\n",
    "    result = 0\n",
    "    a = input()\n",
    "    if a == \"0\" :\n",
    "        break\n",
    "    for i in a :\n",
    "        if i == \"1\" :\n",
    "            result += 2\n",
    "        elif i == \"0\" :\n",
    "            result += 4\n",
    "        else :\n",
    "            result += 3  \n",
    "    result += len(a) + 1\n",
    "    print(result)"
   ]
  },
  {
   "cell_type": "markdown",
   "metadata": {},
   "source": [
    "### 1547"
   ]
  },
  {
   "cell_type": "code",
   "execution_count": 91,
   "metadata": {},
   "outputs": [
    {
     "name": "stdout",
     "output_type": "stream",
     "text": [
      "1\n"
     ]
    }
   ],
   "source": [
    "n = int(input())\n",
    "\n",
    "ball = 1\n",
    "\n",
    "for i in range(n) :\n",
    "    a, b = map(int, input().split())\n",
    "    if a == ball : \n",
    "        ball = b\n",
    "    elif b == ball :\n",
    "        ball = a\n",
    "\n",
    "print(ball)"
   ]
  },
  {
   "cell_type": "markdown",
   "metadata": {},
   "source": [
    "### 1598"
   ]
  },
  {
   "cell_type": "code",
   "execution_count": 140,
   "metadata": {},
   "outputs": [
    {
     "name": "stdout",
     "output_type": "stream",
     "text": [
      "27\n"
     ]
    }
   ],
   "source": [
    "a, b = map(int, input().split())\n",
    "\n",
    "x1 = (a - 1) // 4\n",
    "x2 = (b - 1) // 4\n",
    "y1 = (a - 1) % 4 \n",
    "y2 = (b - 1) % 4\n",
    "\n",
    "print(abs(x1 - x2) + abs(y2 - y1)) "
   ]
  },
  {
   "cell_type": "markdown",
   "metadata": {},
   "source": [
    "### 1837"
   ]
  },
  {
   "cell_type": "code",
   "execution_count": 154,
   "metadata": {},
   "outputs": [
    {
     "name": "stdout",
     "output_type": "stream",
     "text": [
      "GOOD\n"
     ]
    }
   ],
   "source": [
    "# 소수는 2, 3, 5, 7로 나눠지지 않는 수\n",
    "\n",
    "p, k = map(int, input().split())\n",
    "\n",
    "prime = []\n",
    "\n",
    "while k > 2 :\n",
    "    k -= 1\n",
    "    if  p % k == 0 :\n",
    "        prime.append(k)\n",
    "\n",
    "prime.sort()\n",
    "\n",
    "if len(prime) == 1 or len(prime) == 2 :\n",
    "    print(\"BAD\", prime[0])\n",
    "else :\n",
    "    print(\"GOOD\")\n",
    "        \n",
    "    "
   ]
  },
  {
   "cell_type": "markdown",
   "metadata": {},
   "source": [
    "### 1864"
   ]
  },
  {
   "cell_type": "code",
   "execution_count": 160,
   "metadata": {},
   "outputs": [],
   "source": [
    "\n",
    "s = {\n",
    "    \"-\" : 0,\n",
    "    \"\\\\\" : 1,\n",
    "    \"(\" : 2,\n",
    "    \"@\" : 3,\n",
    "    \"?\" : 4,\n",
    "    \">\" : 5,\n",
    "    \"&\" : 6,\n",
    "    \"%\" : 7,\n",
    "    \"/\" : -1\n",
    " }\n",
    "   \n",
    "\n",
    "while True :\n",
    "    a = input()\n",
    "    result = 0    \n",
    "    for i in range(len(a)) :\n",
    "        if a == \"#\" :\n",
    "            break\n",
    "        b = i - (len(a) - 1)\n",
    "        result += s[a[i]] * (8 ** abs(b))\n",
    "    if a == \"#\" :\n",
    "        break\n",
    "    print(result)\n",
    "    \n"
   ]
  },
  {
   "cell_type": "markdown",
   "metadata": {},
   "source": [
    "### 1964"
   ]
  },
  {
   "cell_type": "code",
   "execution_count": 183,
   "metadata": {},
   "outputs": [
    {
     "name": "stdout",
     "output_type": "stream",
     "text": [
      "35\n"
     ]
    }
   ],
   "source": [
    "n = int(input())\n",
    "\n",
    "penta = 5\n",
    "result = 5\n",
    "\n",
    "for i in range(1, n) :\n",
    "    if i == 1 :\n",
    "        penta += i + 1\n",
    "        result += penta\n",
    "    else :\n",
    "        penta += 3\n",
    "        result += penta\n",
    "\n",
    "print(result % 45678)\n"
   ]
  },
  {
   "cell_type": "markdown",
   "metadata": {},
   "source": [
    "### 1975"
   ]
  },
  {
   "cell_type": "code",
   "execution_count": 214,
   "metadata": {},
   "outputs": [
    {
     "name": "stdout",
     "output_type": "stream",
     "text": [
      "3\n"
     ]
    }
   ],
   "source": [
    "t = int(input())\n",
    "\n",
    "def f(n, i):\n",
    "    return 1 + f(n//i, i) if n%i == 0 else 0\n",
    "\n",
    "for j in range(t):\n",
    "    N = int(input())\n",
    "    cnt = 0\n",
    "    for i in range(2, N+1):\n",
    "        cnt += f(N, i)\n",
    "    print(cnt)"
   ]
  },
  {
   "cell_type": "markdown",
   "metadata": {},
   "source": [
    "### 2010"
   ]
  },
  {
   "cell_type": "code",
   "execution_count": 217,
   "metadata": {},
   "outputs": [
    {
     "name": "stdout",
     "output_type": "stream",
     "text": [
      "12\n"
     ]
    }
   ],
   "source": [
    "from sys import stdin\n",
    "\n",
    "n = int(input())\n",
    "\n",
    "result = 0\n",
    "\n",
    "for i in range(n) :\n",
    "    a = int(stdin.readline())\n",
    "    result += a \n",
    "\n",
    "result -= (n - 1)\n",
    "print(result)"
   ]
  },
  {
   "cell_type": "markdown",
   "metadata": {},
   "source": [
    "### 2061"
   ]
  },
  {
   "cell_type": "code",
   "execution_count": 223,
   "metadata": {},
   "outputs": [
    {
     "name": "stdout",
     "output_type": "stream",
     "text": [
      "BAD 11\n"
     ]
    }
   ],
   "source": [
    "k, l = map(int, input().split())\n",
    "\n",
    "prime = []\n",
    "\n",
    "for i in range(l - 1, 1, -1) :\n",
    "    if k % i == 0 :\n",
    "        prime.append(i)\n",
    "        \n",
    "prime.sort()\n",
    "\n",
    "if prime :\n",
    "    print(\"BAD\", prime[0])\n",
    "else :\n",
    "    print(\"GOOD\")\n",
    "\n"
   ]
  },
  {
   "cell_type": "markdown",
   "metadata": {},
   "source": [
    "### 2163"
   ]
  },
  {
   "cell_type": "code",
   "execution_count": 225,
   "metadata": {},
   "outputs": [
    {
     "name": "stdout",
     "output_type": "stream",
     "text": [
      "0\n"
     ]
    }
   ],
   "source": [
    "n, m = map(int, input().split())\n",
    "\n",
    "result = n * m - 1\n",
    "print(result)"
   ]
  },
  {
   "cell_type": "markdown",
   "metadata": {},
   "source": [
    "### 2355"
   ]
  },
  {
   "cell_type": "code",
   "execution_count": 236,
   "metadata": {},
   "outputs": [
    {
     "ename": "ValueError",
     "evalue": "not enough values to unpack (expected 2, got 0)",
     "output_type": "error",
     "traceback": [
      "\u001b[0;31m---------------------------------------------------------------------------\u001b[0m",
      "\u001b[0;31mValueError\u001b[0m                                Traceback (most recent call last)",
      "Input \u001b[0;32mIn [236]\u001b[0m, in \u001b[0;36m<module>\u001b[0;34m\u001b[0m\n\u001b[0;32m----> 1\u001b[0m a, b \u001b[38;5;241m=\u001b[39m \u001b[38;5;28mmap\u001b[39m(\u001b[38;5;28mint\u001b[39m, \u001b[38;5;28minput\u001b[39m()\u001b[38;5;241m.\u001b[39msplit())\n\u001b[1;32m      3\u001b[0m \u001b[38;5;28mprint\u001b[39m(\u001b[38;5;28mabs\u001b[39m(a\u001b[38;5;241m-\u001b[39mb))\n\u001b[1;32m      5\u001b[0m result \u001b[38;5;241m=\u001b[39m (a \u001b[38;5;241m+\u001b[39m b) \u001b[38;5;241m*\u001b[39m (\u001b[38;5;28mabs\u001b[39m(a \u001b[38;5;241m-\u001b[39m b) \u001b[38;5;241m+\u001b[39m \u001b[38;5;241m1\u001b[39m) \u001b[38;5;241m/\u001b[39m\u001b[38;5;241m/\u001b[39m \u001b[38;5;241m2\u001b[39m\n",
      "\u001b[0;31mValueError\u001b[0m: not enough values to unpack (expected 2, got 0)"
     ]
    }
   ],
   "source": [
    "a, b = map(int, input().split())\n",
    "\n",
    "result = (a + b) * (abs(a - b) + 1) // 2\n",
    "print(result)"
   ]
  },
  {
   "cell_type": "markdown",
   "metadata": {},
   "source": [
    "### 2438"
   ]
  },
  {
   "cell_type": "code",
   "execution_count": 255,
   "metadata": {},
   "outputs": [
    {
     "name": "stdout",
     "output_type": "stream",
     "text": [
      "*\n",
      "**\n",
      "***\n",
      "****\n",
      "*****\n",
      "******\n"
     ]
    }
   ],
   "source": [
    "n = int(input())\n",
    "\n",
    "for i in range(1, n + 1) :\n",
    "    print(\"*\" * i)"
   ]
  },
  {
   "cell_type": "markdown",
   "metadata": {},
   "source": [
    "### 2439"
   ]
  },
  {
   "cell_type": "code",
   "execution_count": 267,
   "metadata": {},
   "outputs": [
    {
     "name": "stdout",
     "output_type": "stream",
     "text": [
      "    *\n",
      "   **\n",
      "  ***\n",
      " ****\n",
      "*****\n"
     ]
    }
   ],
   "source": [
    "n = int(input())\n",
    "\n",
    "for i in range(1, n + 1) :\n",
    "    print(\" \" * (n - i) + \"*\" * i)\n"
   ]
  },
  {
   "cell_type": "markdown",
   "metadata": {},
   "source": [
    "### 2440"
   ]
  },
  {
   "cell_type": "code",
   "execution_count": 270,
   "metadata": {},
   "outputs": [
    {
     "name": "stdout",
     "output_type": "stream",
     "text": [
      "*****\n",
      "****\n",
      "***\n",
      "**\n",
      "*\n"
     ]
    }
   ],
   "source": [
    "n = int(input())\n",
    "\n",
    "for i in range(n, 0, -1) :\n",
    "    print(\"*\" * i)"
   ]
  },
  {
   "cell_type": "markdown",
   "metadata": {},
   "source": [
    "### 2441"
   ]
  },
  {
   "cell_type": "code",
   "execution_count": 271,
   "metadata": {},
   "outputs": [
    {
     "name": "stdout",
     "output_type": "stream",
     "text": [
      "*****\n",
      " ****\n",
      "  ***\n",
      "   **\n",
      "    *\n"
     ]
    }
   ],
   "source": [
    "n = int(input())\n",
    "\n",
    "for i in range(n, 0 , -1) :\n",
    "    print(\" \" * (n-i) + \"*\" * i)"
   ]
  },
  {
   "cell_type": "markdown",
   "metadata": {},
   "source": [
    "### 2442"
   ]
  },
  {
   "cell_type": "code",
   "execution_count": 283,
   "metadata": {},
   "outputs": [
    {
     "name": "stdout",
     "output_type": "stream",
     "text": [
      "    *\n",
      "   ***\n",
      "  *****\n",
      " *******\n",
      "*********\n"
     ]
    }
   ],
   "source": [
    "n = int(input())\n",
    "\n",
    "for i in range(1, n + 1) :\n",
    "    a = \" \" * (n - i) + \"*\" * ((2 * i) - 1)\n",
    "    print(a)"
   ]
  },
  {
   "cell_type": "markdown",
   "metadata": {},
   "source": [
    "### 2443"
   ]
  },
  {
   "cell_type": "code",
   "execution_count": 288,
   "metadata": {},
   "outputs": [
    {
     "name": "stdout",
     "output_type": "stream",
     "text": [
      "*********\n",
      " *******\n",
      "  *****\n",
      "   ***\n",
      "    *\n"
     ]
    }
   ],
   "source": [
    "n = int(input())\n",
    "\n",
    "for i in range(n, 0, -1) :\n",
    "    a = \" \" * (n - i) + \"*\" * ((i * 2) - 1)\n",
    "    print(a)"
   ]
  },
  {
   "cell_type": "markdown",
   "metadata": {},
   "source": [
    "### 2444 "
   ]
  },
  {
   "cell_type": "code",
   "execution_count": 296,
   "metadata": {},
   "outputs": [
    {
     "name": "stdout",
     "output_type": "stream",
     "text": [
      "          *\n",
      "         ***\n",
      "        *****\n",
      "       *******\n",
      "      *********\n",
      "     ***********\n",
      "    *************\n",
      "   ***************\n",
      "  *****************\n",
      " *******************\n",
      "*********************\n",
      " *******************\n",
      "  *****************\n",
      "   ***************\n",
      "    *************\n",
      "     ***********\n",
      "      *********\n",
      "       *******\n",
      "        *****\n",
      "         ***\n",
      "          *\n"
     ]
    }
   ],
   "source": [
    "n = int(input())\n",
    "\n",
    "for i in range(1, n + 1) :\n",
    "    a = \" \" * (n - i) + \"*\" * ((2 * i) - 1)\n",
    "    print(a)\n",
    "    if i == n :\n",
    "        for j in range(n - 1, 0, -1) :\n",
    "            a = \" \" * (n - j) + \"*\" * ((j * 2) - 1)\n",
    "            print(a)"
   ]
  },
  {
   "cell_type": "markdown",
   "metadata": {},
   "source": [
    "### 2445"
   ]
  },
  {
   "cell_type": "code",
   "execution_count": 302,
   "metadata": {},
   "outputs": [
    {
     "name": "stdout",
     "output_type": "stream",
     "text": [
      "*        *\n",
      "**      **\n",
      "***    ***\n",
      "****  ****\n",
      "**********\n",
      "****  ****\n",
      "***    ***\n",
      "**      **\n",
      "*        *\n"
     ]
    }
   ],
   "source": [
    "n = int(input())\n",
    "\n",
    "for i in range(1, n + 1) :\n",
    "    a = \"*\" * i + \" \" * ((n * 2) - (i * 2)) + \"*\" * i\n",
    "    print(a)\n",
    "    if i == n :\n",
    "        for j in range(n - 1, 0, -1) :\n",
    "            a = \"*\" * j + \" \" * ((n * 2) - (j * 2)) + \"*\" * j\n",
    "            print(a)"
   ]
  },
  {
   "cell_type": "markdown",
   "metadata": {},
   "source": [
    "### 2446"
   ]
  },
  {
   "cell_type": "code",
   "execution_count": 308,
   "metadata": {},
   "outputs": [
    {
     "name": "stdout",
     "output_type": "stream",
     "text": [
      "*******************\n",
      " *****************\n",
      "  ***************\n",
      "   *************\n",
      "    ***********\n",
      "     *********\n",
      "      *******\n",
      "       *****\n",
      "        ***\n",
      "         *\n",
      "        ***\n",
      "       *****\n",
      "      *******\n",
      "     *********\n",
      "    ***********\n",
      "   *************\n",
      "  ***************\n",
      " *****************\n",
      "*******************\n"
     ]
    }
   ],
   "source": [
    "n = int(input())\n",
    "\n",
    "for i in range(n, 0, -1) :\n",
    "    a = \" \" * (n - i) + \"*\" * ((2 * i) - 1)\n",
    "    print(a)\n",
    "    if i == 1 :\n",
    "        for j in range(2, n + 1) :\n",
    "            a = \" \" * (n - j) + \"*\" * ((j * 2) - 1)\n",
    "            print(a)"
   ]
  },
  {
   "cell_type": "markdown",
   "metadata": {},
   "source": [
    "### 2460"
   ]
  },
  {
   "cell_type": "code",
   "execution_count": 314,
   "metadata": {},
   "outputs": [
    {
     "name": "stdout",
     "output_type": "stream",
     "text": [
      "42\n"
     ]
    }
   ],
   "source": [
    "max_a = []\n",
    "max_b = []\n",
    "\n",
    "for i in range(10) :\n",
    "    a, b = map(int, input().split())   \n",
    "    max_a.append(b - a)\n",
    "    \n",
    "for i in range(1, len(max_a)) :\n",
    "    max_a[0] += max_a[i]\n",
    "    max_b.append(max_a[0])\n",
    "\n",
    "max_b.sort()\n",
    "print(max_b[-1])    "
   ]
  },
  {
   "cell_type": "markdown",
   "metadata": {},
   "source": [
    "### 2476"
   ]
  },
  {
   "cell_type": "code",
   "execution_count": 330,
   "metadata": {},
   "outputs": [
    {
     "name": "stdout",
     "output_type": "stream",
     "text": [
      "12000\n"
     ]
    }
   ],
   "source": [
    "n = int(input())\n",
    "\n",
    "max_a = []\n",
    "\n",
    "for i in range(n) :\n",
    "    a, b, c = map(int, input().split())\n",
    "    e = a - b\n",
    "    f = a - c\n",
    "    g = b - c\n",
    "    \n",
    "    if e == 0 and f == 0 :\n",
    "        max_a.append(10000 + (a * 1000))\n",
    "    elif e == 0 :\n",
    "        max_a.append(1000 + (a * 100))\n",
    "    elif f == 0 :\n",
    "        max_a.append(1000 + (c * 100))\n",
    "    elif g == 0 :\n",
    "        max_a.append(1000 + (b * 100))\n",
    "    else :\n",
    "        max_a.append(max(a, b, c) * 100)\n",
    "\n",
    "max_a.sort()\n",
    "print(max_a[-1])"
   ]
  },
  {
   "cell_type": "markdown",
   "metadata": {},
   "source": [
    "### 2490"
   ]
  },
  {
   "cell_type": "code",
   "execution_count": 337,
   "metadata": {},
   "outputs": [
    {
     "name": "stdout",
     "output_type": "stream",
     "text": [
      "E\n",
      "E\n",
      "E\n"
     ]
    }
   ],
   "source": [
    "b = {0 : \"E\",\n",
    "     1: \"A\",\n",
    "     2: \"B\",\n",
    "     3: \"C\",\n",
    "     4: \"D\"}\n",
    "\n",
    "for i in range(3) :\n",
    "    a = list(map(int, input().split()))\n",
    "    print(b[a.count(0)])"
   ]
  },
  {
   "cell_type": "markdown",
   "metadata": {},
   "source": [
    "### 2501"
   ]
  },
  {
   "cell_type": "code",
   "execution_count": 349,
   "metadata": {},
   "outputs": [
    {
     "name": "stdout",
     "output_type": "stream",
     "text": [
      "[1, 2, 5, 10]\n",
      "10\n"
     ]
    }
   ],
   "source": [
    "n, k = map(int, input().split())\n",
    "\n",
    "a = []\n",
    "\n",
    "for i in range(1, n + 1) :\n",
    "    if n % i == 0 :\n",
    "        a.append(i)\n",
    "\n",
    "if len(a) >= k  :\n",
    "    print(a[k - 1])\n",
    "\n",
    "if len(a) < k :\n",
    "    print(0)\n",
    "    "
   ]
  },
  {
   "cell_type": "markdown",
   "metadata": {},
   "source": [
    "### 2506"
   ]
  },
  {
   "cell_type": "code",
   "execution_count": 351,
   "metadata": {},
   "outputs": [
    {
     "name": "stdout",
     "output_type": "stream",
     "text": [
      "10\n"
     ]
    }
   ],
   "source": [
    "n = int(input())\n",
    "\n",
    "a = list(map(int, input().split()))\n",
    "\n",
    "result = 0\n",
    "con = 0\n",
    "\n",
    "for i in range(len(a)) :\n",
    "    if a[i] == 1 :\n",
    "        con += 1\n",
    "        result += con\n",
    "    else :\n",
    "        con = 0\n",
    "\n",
    "print(result)"
   ]
  },
  {
   "cell_type": "markdown",
   "metadata": {},
   "source": [
    "### 2511"
   ]
  },
  {
   "cell_type": "code",
   "execution_count": 365,
   "metadata": {},
   "outputs": [
    {
     "name": "stdout",
     "output_type": "stream",
     "text": [
      "10 10\n",
      "D\n"
     ]
    }
   ],
   "source": [
    "a = list(map(int, input().split()))\n",
    "b = list(map(int, input().split()))\n",
    "\n",
    "win = []\n",
    "\n",
    "for i in range(len(a)) :\n",
    "    if a[i] > b[i] :\n",
    "        win.append(\"A\")\n",
    "    elif a[i] == b[i] :\n",
    "        win.append(\"D\")\n",
    "    else :\n",
    "        win.append(\"B\")\n",
    "\n",
    "A = win.count(\"A\")\n",
    "B = win.count(\"B\")\n",
    "D = win.count(\"D\")\n",
    "\n",
    "print(A * 3 + D, B * 3 + D)\n",
    "if A > B :\n",
    "    print(\"A\")\n",
    "elif A == B :\n",
    "    for i in range(len(win) - 1, -1, -1) :\n",
    "        if win[i] != \"D\" :\n",
    "            print(win[i])\n",
    "            break\n",
    "    if win.count(\"D\") == 10 :\n",
    "        print(\"D\")\n",
    "else :\n",
    "    print(\"B\")\n",
    "\n",
    "\n"
   ]
  },
  {
   "cell_type": "markdown",
   "metadata": {},
   "source": [
    "### 2522"
   ]
  },
  {
   "cell_type": "code",
   "execution_count": 377,
   "metadata": {},
   "outputs": [
    {
     "name": "stdout",
     "output_type": "stream",
     "text": [
      "         *\n",
      "        **\n",
      "       ***\n",
      "      ****\n",
      "     *****\n",
      "    ******\n",
      "   *******\n",
      "  ********\n",
      " *********\n",
      "**********\n",
      " *********\n",
      "  ********\n",
      "   *******\n",
      "    ******\n",
      "     *****\n",
      "      ****\n",
      "       ***\n",
      "        **\n",
      "         *\n",
      "          \n"
     ]
    }
   ],
   "source": [
    "n = int(input())\n",
    "\n",
    "for i in range(n) :\n",
    "    print(\" \" * ((n - 1) - i) + \"*\" * (i + 1) )\n",
    "    if i == n - 1 :\n",
    "        for j in range(n - 1, -1, -1) :\n",
    "            print(\" \" * (n - j) + \"*\" * (j))"
   ]
  },
  {
   "cell_type": "markdown",
   "metadata": {},
   "source": [
    "### 1075"
   ]
  },
  {
   "cell_type": "code",
   "execution_count": 19,
   "metadata": {},
   "outputs": [
    {
     "name": "stdout",
     "output_type": "stream",
     "text": [
      "4283\n",
      "15\n"
     ]
    }
   ],
   "source": [
    "n = input()\n",
    "b = int(input())\n",
    "\n",
    "a = int(n[:-2] + \"00\")\n",
    "\n",
    "while True :\n",
    "    if a % b == 0 :\n",
    "        break\n",
    "    a += 1\n",
    "    \n",
    "print(str(a)[-2:])"
   ]
  },
  {
   "cell_type": "markdown",
   "metadata": {},
   "source": [
    "### 1076"
   ]
  },
  {
   "cell_type": "code",
   "execution_count": 24,
   "metadata": {},
   "outputs": [
    {
     "name": "stdout",
     "output_type": "stream",
     "text": [
      "99000000000\n"
     ]
    }
   ],
   "source": [
    "resister = {\n",
    "    \"black\" : \"0\",\n",
    "    \"brown\" : \"1\",\n",
    "    \"red\"   : \"2\",\n",
    "    \"orange\": \"3\",\n",
    "    \"yellow\": \"4\",\n",
    "    \"green\" : \"5\",\n",
    "    \"blue\"  : \"6\",\n",
    "    \"violet\": \"7\",\n",
    "    \"grey\"  : \"8\",\n",
    "    \"white\" : \"9\",\n",
    "    }\n",
    "\n",
    "a = input() \n",
    "b = input()\n",
    "c = input()\n",
    "\n",
    "print(int(resister[a] + resister[b]) * (10 ** int(resister[c])))"
   ]
  },
  {
   "cell_type": "markdown",
   "metadata": {},
   "source": [
    "### 1100"
   ]
  },
  {
   "cell_type": "code",
   "execution_count": 33,
   "metadata": {},
   "outputs": [
    {
     "ename": "ValueError",
     "evalue": "empty separator",
     "output_type": "error",
     "traceback": [
      "\u001b[0;31m---------------------------------------------------------------------------\u001b[0m",
      "\u001b[0;31mValueError\u001b[0m                                Traceback (most recent call last)",
      "Input \u001b[0;32mIn [33]\u001b[0m, in \u001b[0;36m<module>\u001b[0;34m\u001b[0m\n\u001b[1;32m      2\u001b[0m \u001b[38;5;28;01mfor\u001b[39;00m i \u001b[38;5;129;01min\u001b[39;00m \u001b[38;5;28mrange\u001b[39m(\u001b[38;5;241m8\u001b[39m) :\n\u001b[1;32m      3\u001b[0m     a \u001b[38;5;241m=\u001b[39m \u001b[38;5;28minput\u001b[39m()\n\u001b[0;32m----> 4\u001b[0m     \u001b[43ma\u001b[49m\u001b[38;5;241;43m.\u001b[39;49m\u001b[43msplit\u001b[49m\u001b[43m(\u001b[49m\u001b[38;5;124;43m\"\u001b[39;49m\u001b[38;5;124;43m\"\u001b[39;49m\u001b[43m)\u001b[49m\n\u001b[1;32m      5\u001b[0m     \u001b[38;5;28mprint\u001b[39m(a)\n\u001b[1;32m      6\u001b[0m     \u001b[38;5;28;01mfor\u001b[39;00m j \u001b[38;5;129;01min\u001b[39;00m \u001b[38;5;28mrange\u001b[39m(\u001b[38;5;28mlen\u001b[39m(a)) :\n",
      "\u001b[0;31mValueError\u001b[0m: empty separator"
     ]
    }
   ],
   "source": [
    "result = 0\n",
    "for i in range(8) :\n",
    "    a = input()\n",
    "    for j in range(len(a)) :\n",
    "        if j % 2 == 0 :\n",
    "            if a[j] == \"F\" :\n",
    "                result += 1\n",
    "\n",
    "print(result)"
   ]
  },
  {
   "cell_type": "code",
   "execution_count": 29,
   "metadata": {},
   "outputs": [
    {
     "name": "stdout",
     "output_type": "stream",
     "text": [
      "0\n"
     ]
    }
   ],
   "source": []
  }
 ],
 "metadata": {
  "interpreter": {
   "hash": "b0fa6594d8f4cbf19f97940f81e996739fb7646882a419484c72d19e05852a7e"
  },
  "kernelspec": {
   "display_name": "Python 3.9.8 64-bit",
   "language": "python",
   "name": "python3"
  },
  "language_info": {
   "codemirror_mode": {
    "name": "ipython",
    "version": 3
   },
   "file_extension": ".py",
   "mimetype": "text/x-python",
   "name": "python",
   "nbconvert_exporter": "python",
   "pygments_lexer": "ipython3",
   "version": "3.9.9"
  },
  "orig_nbformat": 4
 },
 "nbformat": 4,
 "nbformat_minor": 2
}
